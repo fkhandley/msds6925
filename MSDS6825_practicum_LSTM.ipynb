{
  "nbformat": 4,
  "nbformat_minor": 0,
  "metadata": {
    "colab": {
      "provenance": [],
      "machine_shape": "hm",
      "gpuType": "L4",
      "authorship_tag": "ABX9TyMdmmnsGYjUciFmjo5rbCAf",
      "include_colab_link": true
    },
    "kernelspec": {
      "name": "python3",
      "display_name": "Python 3"
    },
    "language_info": {
      "name": "python"
    },
    "accelerator": "GPU"
  },
  "cells": [
    {
      "cell_type": "markdown",
      "metadata": {
        "id": "view-in-github",
        "colab_type": "text"
      },
      "source": [
        "<a href=\"https://colab.research.google.com/github/fkhandley/msds6925/blob/main/MSDS6825_practicum_LSTM.ipynb\" target=\"_parent\"><img src=\"https://colab.research.google.com/assets/colab-badge.svg\" alt=\"Open In Colab\"/></a>"
      ]
    },
    {
      "cell_type": "code",
      "execution_count": 1,
      "metadata": {
        "id": "6lubItrAD091"
      },
      "outputs": [],
      "source": [
        "import pandas as pd\n",
        "import numpy as np\n",
        "import matplotlib.pyplot as plt\n",
        "import seaborn as sns\n",
        "from datetime import datetime, timedelta\n",
        "import tensorflow as tf\n",
        "from tensorflow.keras import layers, models\n",
        "from sklearn.preprocessing import MinMaxScaler\n",
        "import time"
      ]
    },
    {
      "cell_type": "code",
      "source": [
        "from google.colab import drive\n",
        "drive.mount('/content/drive')"
      ],
      "metadata": {
        "colab": {
          "base_uri": "https://localhost:8080/"
        },
        "id": "uTqiQHJ6HKK5",
        "outputId": "3ff2d1ef-f2b8-4d4b-936b-b76424369203"
      },
      "execution_count": 2,
      "outputs": [
        {
          "output_type": "stream",
          "name": "stdout",
          "text": [
            "Drive already mounted at /content/drive; to attempt to forcibly remount, call drive.mount(\"/content/drive\", force_remount=True).\n"
          ]
        }
      ]
    },
    {
      "cell_type": "code",
      "source": [
        "dtype_dict = {\n",
        "    'order_id': 'string',\n",
        "    'user_id': 'string',\n",
        "    'payment_method': 'category',\n",
        "    'user_zipcode_current': 'category',\n",
        "    'gender': 'category',\n",
        "    'product_category': 'category',\n",
        "    'strain_type': 'category'\n",
        "}"
      ],
      "metadata": {
        "id": "AQg7uqm60zLW"
      },
      "execution_count": 3,
      "outputs": []
    },
    {
      "cell_type": "code",
      "source": [
        "orders_load = pd.read_csv('/content/drive/MyDrive/orders.csv', dtype=dtype_dict)"
      ],
      "metadata": {
        "id": "Q9pcroJZHO9Q"
      },
      "execution_count": 4,
      "outputs": []
    },
    {
      "cell_type": "code",
      "source": [
        "orders_load['delivery_datetime'] = pd.to_datetime(orders_load['delivery_datetime'])"
      ],
      "metadata": {
        "id": "5OyU_No8He-F"
      },
      "execution_count": 5,
      "outputs": []
    },
    {
      "cell_type": "code",
      "source": [
        "user_orders = orders_load.groupby('user_id').size().reset_index(name='order_count')\n",
        "print(f\"Original number of unique users: {len(user_orders)}\")\n",
        "user_orders5 = user_orders[user_orders['order_count'] >= 5]\n",
        "print(f\"Users with 5+ orders: {len(user_orders5)}\")\n",
        "users5 = user_orders5['user_id'].unique()\n",
        "user_size = round(len(users5)*0.01,0)\n",
        "print(f\"Taking sample of {user_size} users\")\n",
        "user_sample = np.random.choice(users5, size=int(user_size), replace=False)\n",
        "orders_load = orders_load[orders_load['user_id'].isin(user_sample)]\n",
        "final_orders_per_user = orders_load.groupby('user_id').size()\n",
        "print(\"\\nFinal orders per user:\")\n",
        "print(final_orders_per_user.describe())"
      ],
      "metadata": {
        "id": "QbQaeSi8q9RW",
        "colab": {
          "base_uri": "https://localhost:8080/"
        },
        "outputId": "6c3d3510-8a20-426f-e4fb-bf3dbc0fd845"
      },
      "execution_count": 6,
      "outputs": [
        {
          "output_type": "stream",
          "name": "stdout",
          "text": [
            "Original number of unique users: 884901\n",
            "Users with 5+ orders: 265985\n",
            "Taking sample of 2660.0 users\n",
            "\n",
            "Final orders per user:\n",
            "count    2660.000000\n",
            "mean       20.522556\n",
            "std        26.527496\n",
            "min         5.000000\n",
            "25%         7.000000\n",
            "50%        11.000000\n",
            "75%        22.000000\n",
            "max       263.000000\n",
            "dtype: float64\n"
          ]
        }
      ]
    },
    {
      "cell_type": "code",
      "source": [
        "freq_df = orders_load[['order_id','user_id','delivery_datetime']].copy()\n",
        "freq_df.drop_duplicates('order_id', inplace=True)\n",
        "freq_df.sort_values('delivery_datetime', inplace=True)\n",
        "\n",
        "# Create the shifted dates within each user group\n",
        "freq_df['last_delivery_date'] = freq_df.groupby('user_id')['delivery_datetime'].shift(1)\n",
        "\n",
        "# Calculate the days between orders\n",
        "freq_df['days_since_order'] = (freq_df['delivery_datetime'] - freq_df['last_delivery_date']).dt.days"
      ],
      "metadata": {
        "id": "kAK5qHPa4byh"
      },
      "execution_count": 7,
      "outputs": []
    },
    {
      "cell_type": "code",
      "source": [
        "avg_freq_user = freq_df.groupby('user_id')['days_since_order'].mean().reset_index()\n",
        "avg_freq_user.rename(columns={'days_since_order':'avg_freq'}, inplace=True)\n",
        "orders_load = orders_load.merge(freq_df[['order_id','days_since_order']], on='order_id', how='left').merge(avg_freq_user[['user_id','avg_freq']], on='user_id', how='left')"
      ],
      "metadata": {
        "id": "Ic4P4I73D5Vv"
      },
      "execution_count": 8,
      "outputs": []
    },
    {
      "cell_type": "code",
      "source": [
        "del freq_df, avg_freq_user"
      ],
      "metadata": {
        "id": "hgexxBNvGHF9"
      },
      "execution_count": 9,
      "outputs": []
    },
    {
      "cell_type": "code",
      "source": [
        "orders_load.head()"
      ],
      "metadata": {
        "colab": {
          "base_uri": "https://localhost:8080/",
          "height": 313
        },
        "id": "l_5_cG2tBHOG",
        "outputId": "6afaaa23-3bf0-416d-ccc0-cc94a6be4738"
      },
      "execution_count": 10,
      "outputs": [
        {
          "output_type": "execute_result",
          "data": {
            "text/plain": [
              "  order_id user_id       delivery_datetime  wait_time  promo_credit  \\\n",
              "0  9836366  891242 2021-11-28 22:53:40.920      44.28         19.75   \n",
              "1  6698033  760501 2020-03-14 01:37:18.087      32.76         20.00   \n",
              "2  7484141  760501 2020-08-17 05:15:29.920     105.85          0.00   \n",
              "3  8603178  760501 2021-03-08 05:28:40.233      42.79          0.00   \n",
              "4  9481551  760501 2021-09-11 03:01:49.833      64.14         10.50   \n",
              "\n",
              "   order_price_total     promo_code payment_method  days_since_order  \\\n",
              "0              84.00    sesh 112821            POB             140.0   \n",
              "1              87.00    start 31920            POB               9.0   \n",
              "2             127.00            NaN            POB              18.0   \n",
              "3             133.69            NaN   Online Debit               3.0   \n",
              "4              99.00  ohyeah 091021            POB               3.0   \n",
              "\n",
              "     avg_freq  \n",
              "0  171.111111  \n",
              "1   12.678832  \n",
              "2   12.678832  \n",
              "3   12.678832  \n",
              "4   12.678832  "
            ],
            "text/html": [
              "\n",
              "  <div id=\"df-62afc20e-abaf-40e4-b844-5cc1cbfb2e79\" class=\"colab-df-container\">\n",
              "    <div>\n",
              "<style scoped>\n",
              "    .dataframe tbody tr th:only-of-type {\n",
              "        vertical-align: middle;\n",
              "    }\n",
              "\n",
              "    .dataframe tbody tr th {\n",
              "        vertical-align: top;\n",
              "    }\n",
              "\n",
              "    .dataframe thead th {\n",
              "        text-align: right;\n",
              "    }\n",
              "</style>\n",
              "<table border=\"1\" class=\"dataframe\">\n",
              "  <thead>\n",
              "    <tr style=\"text-align: right;\">\n",
              "      <th></th>\n",
              "      <th>order_id</th>\n",
              "      <th>user_id</th>\n",
              "      <th>delivery_datetime</th>\n",
              "      <th>wait_time</th>\n",
              "      <th>promo_credit</th>\n",
              "      <th>order_price_total</th>\n",
              "      <th>promo_code</th>\n",
              "      <th>payment_method</th>\n",
              "      <th>days_since_order</th>\n",
              "      <th>avg_freq</th>\n",
              "    </tr>\n",
              "  </thead>\n",
              "  <tbody>\n",
              "    <tr>\n",
              "      <th>0</th>\n",
              "      <td>9836366</td>\n",
              "      <td>891242</td>\n",
              "      <td>2021-11-28 22:53:40.920</td>\n",
              "      <td>44.28</td>\n",
              "      <td>19.75</td>\n",
              "      <td>84.00</td>\n",
              "      <td>sesh 112821</td>\n",
              "      <td>POB</td>\n",
              "      <td>140.0</td>\n",
              "      <td>171.111111</td>\n",
              "    </tr>\n",
              "    <tr>\n",
              "      <th>1</th>\n",
              "      <td>6698033</td>\n",
              "      <td>760501</td>\n",
              "      <td>2020-03-14 01:37:18.087</td>\n",
              "      <td>32.76</td>\n",
              "      <td>20.00</td>\n",
              "      <td>87.00</td>\n",
              "      <td>start 31920</td>\n",
              "      <td>POB</td>\n",
              "      <td>9.0</td>\n",
              "      <td>12.678832</td>\n",
              "    </tr>\n",
              "    <tr>\n",
              "      <th>2</th>\n",
              "      <td>7484141</td>\n",
              "      <td>760501</td>\n",
              "      <td>2020-08-17 05:15:29.920</td>\n",
              "      <td>105.85</td>\n",
              "      <td>0.00</td>\n",
              "      <td>127.00</td>\n",
              "      <td>NaN</td>\n",
              "      <td>POB</td>\n",
              "      <td>18.0</td>\n",
              "      <td>12.678832</td>\n",
              "    </tr>\n",
              "    <tr>\n",
              "      <th>3</th>\n",
              "      <td>8603178</td>\n",
              "      <td>760501</td>\n",
              "      <td>2021-03-08 05:28:40.233</td>\n",
              "      <td>42.79</td>\n",
              "      <td>0.00</td>\n",
              "      <td>133.69</td>\n",
              "      <td>NaN</td>\n",
              "      <td>Online Debit</td>\n",
              "      <td>3.0</td>\n",
              "      <td>12.678832</td>\n",
              "    </tr>\n",
              "    <tr>\n",
              "      <th>4</th>\n",
              "      <td>9481551</td>\n",
              "      <td>760501</td>\n",
              "      <td>2021-09-11 03:01:49.833</td>\n",
              "      <td>64.14</td>\n",
              "      <td>10.50</td>\n",
              "      <td>99.00</td>\n",
              "      <td>ohyeah 091021</td>\n",
              "      <td>POB</td>\n",
              "      <td>3.0</td>\n",
              "      <td>12.678832</td>\n",
              "    </tr>\n",
              "  </tbody>\n",
              "</table>\n",
              "</div>\n",
              "    <div class=\"colab-df-buttons\">\n",
              "\n",
              "  <div class=\"colab-df-container\">\n",
              "    <button class=\"colab-df-convert\" onclick=\"convertToInteractive('df-62afc20e-abaf-40e4-b844-5cc1cbfb2e79')\"\n",
              "            title=\"Convert this dataframe to an interactive table.\"\n",
              "            style=\"display:none;\">\n",
              "\n",
              "  <svg xmlns=\"http://www.w3.org/2000/svg\" height=\"24px\" viewBox=\"0 -960 960 960\">\n",
              "    <path d=\"M120-120v-720h720v720H120Zm60-500h600v-160H180v160Zm220 220h160v-160H400v160Zm0 220h160v-160H400v160ZM180-400h160v-160H180v160Zm440 0h160v-160H620v160ZM180-180h160v-160H180v160Zm440 0h160v-160H620v160Z\"/>\n",
              "  </svg>\n",
              "    </button>\n",
              "\n",
              "  <style>\n",
              "    .colab-df-container {\n",
              "      display:flex;\n",
              "      gap: 12px;\n",
              "    }\n",
              "\n",
              "    .colab-df-convert {\n",
              "      background-color: #E8F0FE;\n",
              "      border: none;\n",
              "      border-radius: 50%;\n",
              "      cursor: pointer;\n",
              "      display: none;\n",
              "      fill: #1967D2;\n",
              "      height: 32px;\n",
              "      padding: 0 0 0 0;\n",
              "      width: 32px;\n",
              "    }\n",
              "\n",
              "    .colab-df-convert:hover {\n",
              "      background-color: #E2EBFA;\n",
              "      box-shadow: 0px 1px 2px rgba(60, 64, 67, 0.3), 0px 1px 3px 1px rgba(60, 64, 67, 0.15);\n",
              "      fill: #174EA6;\n",
              "    }\n",
              "\n",
              "    .colab-df-buttons div {\n",
              "      margin-bottom: 4px;\n",
              "    }\n",
              "\n",
              "    [theme=dark] .colab-df-convert {\n",
              "      background-color: #3B4455;\n",
              "      fill: #D2E3FC;\n",
              "    }\n",
              "\n",
              "    [theme=dark] .colab-df-convert:hover {\n",
              "      background-color: #434B5C;\n",
              "      box-shadow: 0px 1px 3px 1px rgba(0, 0, 0, 0.15);\n",
              "      filter: drop-shadow(0px 1px 2px rgba(0, 0, 0, 0.3));\n",
              "      fill: #FFFFFF;\n",
              "    }\n",
              "  </style>\n",
              "\n",
              "    <script>\n",
              "      const buttonEl =\n",
              "        document.querySelector('#df-62afc20e-abaf-40e4-b844-5cc1cbfb2e79 button.colab-df-convert');\n",
              "      buttonEl.style.display =\n",
              "        google.colab.kernel.accessAllowed ? 'block' : 'none';\n",
              "\n",
              "      async function convertToInteractive(key) {\n",
              "        const element = document.querySelector('#df-62afc20e-abaf-40e4-b844-5cc1cbfb2e79');\n",
              "        const dataTable =\n",
              "          await google.colab.kernel.invokeFunction('convertToInteractive',\n",
              "                                                    [key], {});\n",
              "        if (!dataTable) return;\n",
              "\n",
              "        const docLinkHtml = 'Like what you see? Visit the ' +\n",
              "          '<a target=\"_blank\" href=https://colab.research.google.com/notebooks/data_table.ipynb>data table notebook</a>'\n",
              "          + ' to learn more about interactive tables.';\n",
              "        element.innerHTML = '';\n",
              "        dataTable['output_type'] = 'display_data';\n",
              "        await google.colab.output.renderOutput(dataTable, element);\n",
              "        const docLink = document.createElement('div');\n",
              "        docLink.innerHTML = docLinkHtml;\n",
              "        element.appendChild(docLink);\n",
              "      }\n",
              "    </script>\n",
              "  </div>\n",
              "\n",
              "\n",
              "<div id=\"df-611e8ede-8e79-4b12-a4f1-6b02390f3d47\">\n",
              "  <button class=\"colab-df-quickchart\" onclick=\"quickchart('df-611e8ede-8e79-4b12-a4f1-6b02390f3d47')\"\n",
              "            title=\"Suggest charts\"\n",
              "            style=\"display:none;\">\n",
              "\n",
              "<svg xmlns=\"http://www.w3.org/2000/svg\" height=\"24px\"viewBox=\"0 0 24 24\"\n",
              "     width=\"24px\">\n",
              "    <g>\n",
              "        <path d=\"M19 3H5c-1.1 0-2 .9-2 2v14c0 1.1.9 2 2 2h14c1.1 0 2-.9 2-2V5c0-1.1-.9-2-2-2zM9 17H7v-7h2v7zm4 0h-2V7h2v10zm4 0h-2v-4h2v4z\"/>\n",
              "    </g>\n",
              "</svg>\n",
              "  </button>\n",
              "\n",
              "<style>\n",
              "  .colab-df-quickchart {\n",
              "      --bg-color: #E8F0FE;\n",
              "      --fill-color: #1967D2;\n",
              "      --hover-bg-color: #E2EBFA;\n",
              "      --hover-fill-color: #174EA6;\n",
              "      --disabled-fill-color: #AAA;\n",
              "      --disabled-bg-color: #DDD;\n",
              "  }\n",
              "\n",
              "  [theme=dark] .colab-df-quickchart {\n",
              "      --bg-color: #3B4455;\n",
              "      --fill-color: #D2E3FC;\n",
              "      --hover-bg-color: #434B5C;\n",
              "      --hover-fill-color: #FFFFFF;\n",
              "      --disabled-bg-color: #3B4455;\n",
              "      --disabled-fill-color: #666;\n",
              "  }\n",
              "\n",
              "  .colab-df-quickchart {\n",
              "    background-color: var(--bg-color);\n",
              "    border: none;\n",
              "    border-radius: 50%;\n",
              "    cursor: pointer;\n",
              "    display: none;\n",
              "    fill: var(--fill-color);\n",
              "    height: 32px;\n",
              "    padding: 0;\n",
              "    width: 32px;\n",
              "  }\n",
              "\n",
              "  .colab-df-quickchart:hover {\n",
              "    background-color: var(--hover-bg-color);\n",
              "    box-shadow: 0 1px 2px rgba(60, 64, 67, 0.3), 0 1px 3px 1px rgba(60, 64, 67, 0.15);\n",
              "    fill: var(--button-hover-fill-color);\n",
              "  }\n",
              "\n",
              "  .colab-df-quickchart-complete:disabled,\n",
              "  .colab-df-quickchart-complete:disabled:hover {\n",
              "    background-color: var(--disabled-bg-color);\n",
              "    fill: var(--disabled-fill-color);\n",
              "    box-shadow: none;\n",
              "  }\n",
              "\n",
              "  .colab-df-spinner {\n",
              "    border: 2px solid var(--fill-color);\n",
              "    border-color: transparent;\n",
              "    border-bottom-color: var(--fill-color);\n",
              "    animation:\n",
              "      spin 1s steps(1) infinite;\n",
              "  }\n",
              "\n",
              "  @keyframes spin {\n",
              "    0% {\n",
              "      border-color: transparent;\n",
              "      border-bottom-color: var(--fill-color);\n",
              "      border-left-color: var(--fill-color);\n",
              "    }\n",
              "    20% {\n",
              "      border-color: transparent;\n",
              "      border-left-color: var(--fill-color);\n",
              "      border-top-color: var(--fill-color);\n",
              "    }\n",
              "    30% {\n",
              "      border-color: transparent;\n",
              "      border-left-color: var(--fill-color);\n",
              "      border-top-color: var(--fill-color);\n",
              "      border-right-color: var(--fill-color);\n",
              "    }\n",
              "    40% {\n",
              "      border-color: transparent;\n",
              "      border-right-color: var(--fill-color);\n",
              "      border-top-color: var(--fill-color);\n",
              "    }\n",
              "    60% {\n",
              "      border-color: transparent;\n",
              "      border-right-color: var(--fill-color);\n",
              "    }\n",
              "    80% {\n",
              "      border-color: transparent;\n",
              "      border-right-color: var(--fill-color);\n",
              "      border-bottom-color: var(--fill-color);\n",
              "    }\n",
              "    90% {\n",
              "      border-color: transparent;\n",
              "      border-bottom-color: var(--fill-color);\n",
              "    }\n",
              "  }\n",
              "</style>\n",
              "\n",
              "  <script>\n",
              "    async function quickchart(key) {\n",
              "      const quickchartButtonEl =\n",
              "        document.querySelector('#' + key + ' button');\n",
              "      quickchartButtonEl.disabled = true;  // To prevent multiple clicks.\n",
              "      quickchartButtonEl.classList.add('colab-df-spinner');\n",
              "      try {\n",
              "        const charts = await google.colab.kernel.invokeFunction(\n",
              "            'suggestCharts', [key], {});\n",
              "      } catch (error) {\n",
              "        console.error('Error during call to suggestCharts:', error);\n",
              "      }\n",
              "      quickchartButtonEl.classList.remove('colab-df-spinner');\n",
              "      quickchartButtonEl.classList.add('colab-df-quickchart-complete');\n",
              "    }\n",
              "    (() => {\n",
              "      let quickchartButtonEl =\n",
              "        document.querySelector('#df-611e8ede-8e79-4b12-a4f1-6b02390f3d47 button');\n",
              "      quickchartButtonEl.style.display =\n",
              "        google.colab.kernel.accessAllowed ? 'block' : 'none';\n",
              "    })();\n",
              "  </script>\n",
              "</div>\n",
              "\n",
              "    </div>\n",
              "  </div>\n"
            ],
            "application/vnd.google.colaboratory.intrinsic+json": {
              "type": "dataframe",
              "variable_name": "orders_load",
              "summary": "{\n  \"name\": \"orders_load\",\n  \"rows\": 54590,\n  \"fields\": [\n    {\n      \"column\": \"order_id\",\n      \"properties\": {\n        \"dtype\": \"string\",\n        \"num_unique_values\": 54590,\n        \"samples\": [\n          \"11953376\",\n          \"9369086\",\n          \"13930548\"\n        ],\n        \"semantic_type\": \"\",\n        \"description\": \"\"\n      }\n    },\n    {\n      \"column\": \"user_id\",\n      \"properties\": {\n        \"dtype\": \"string\",\n        \"num_unique_values\": 2660,\n        \"samples\": [\n          \"1307236\",\n          \"1177201\",\n          \"939574\"\n        ],\n        \"semantic_type\": \"\",\n        \"description\": \"\"\n      }\n    },\n    {\n      \"column\": \"delivery_datetime\",\n      \"properties\": {\n        \"dtype\": \"date\",\n        \"min\": \"2020-01-01 00:32:05.740000\",\n        \"max\": \"2025-01-25 17:29:22.043000\",\n        \"num_unique_values\": 54590,\n        \"samples\": [\n          \"2023-04-16 21:18:41.403000\",\n          \"2021-08-18 21:20:51.440000\",\n          \"2025-01-21 05:18:13.537000\"\n        ],\n        \"semantic_type\": \"\",\n        \"description\": \"\"\n      }\n    },\n    {\n      \"column\": \"wait_time\",\n      \"properties\": {\n        \"dtype\": \"number\",\n        \"std\": 51.46855595890035,\n        \"min\": 1.88,\n        \"max\": 1702.45,\n        \"num_unique_values\": 14225,\n        \"samples\": [\n          75.78999999999999,\n          13.53,\n          91.54\n        ],\n        \"semantic_type\": \"\",\n        \"description\": \"\"\n      }\n    },\n    {\n      \"column\": \"promo_credit\",\n      \"properties\": {\n        \"dtype\": \"number\",\n        \"std\": 17.86608002390681,\n        \"min\": 0.0,\n        \"max\": 228.4,\n        \"num_unique_values\": 1161,\n        \"samples\": [\n          91.8,\n          105.6,\n          5.95\n        ],\n        \"semantic_type\": \"\",\n        \"description\": \"\"\n      }\n    },\n    {\n      \"column\": \"order_price_total\",\n      \"properties\": {\n        \"dtype\": \"number\",\n        \"std\": 64.95890770958424,\n        \"min\": 0.0,\n        \"max\": 1304.0,\n        \"num_unique_values\": 11180,\n        \"samples\": [\n          62.49,\n          150.34,\n          412.57\n        ],\n        \"semantic_type\": \"\",\n        \"description\": \"\"\n      }\n    },\n    {\n      \"column\": \"promo_code\",\n      \"properties\": {\n        \"dtype\": \"category\",\n        \"num_unique_values\": 2474,\n        \"samples\": [\n          \"treat 05052023\",\n          \"choice\",\n          \"mid\"\n        ],\n        \"semantic_type\": \"\",\n        \"description\": \"\"\n      }\n    },\n    {\n      \"column\": \"payment_method\",\n      \"properties\": {\n        \"dtype\": \"category\",\n        \"num_unique_values\": 6,\n        \"samples\": [\n          \"POB\",\n          \"Online Debit\",\n          \"Account Credit\"\n        ],\n        \"semantic_type\": \"\",\n        \"description\": \"\"\n      }\n    },\n    {\n      \"column\": \"days_since_order\",\n      \"properties\": {\n        \"dtype\": \"number\",\n        \"std\": 93.53325671484326,\n        \"min\": 0.0,\n        \"max\": 1701.0,\n        \"num_unique_values\": 801,\n        \"samples\": [\n          1021.0,\n          363.0,\n          89.0\n        ],\n        \"semantic_type\": \"\",\n        \"description\": \"\"\n      }\n    },\n    {\n      \"column\": \"avg_freq\",\n      \"properties\": {\n        \"dtype\": \"number\",\n        \"std\": 51.00650429132269,\n        \"min\": 0.25,\n        \"max\": 452.5,\n        \"num_unique_values\": 2324,\n        \"samples\": [\n          26.8,\n          31.649122807017545,\n          291.6\n        ],\n        \"semantic_type\": \"\",\n        \"description\": \"\"\n      }\n    }\n  ]\n}"
            }
          },
          "metadata": {},
          "execution_count": 10
        }
      ]
    },
    {
      "cell_type": "markdown",
      "source": [
        "# Key input: days of orders lookback"
      ],
      "metadata": {
        "id": "uzTAE9yEHZBz"
      }
    },
    {
      "cell_type": "code",
      "source": [
        "end_date = orders_load['delivery_datetime'].max()\n",
        "#start_date = end_date - timedelta(days=4500000)\n",
        "\n",
        "#orders_reduced = orders_load[orders_load['delivery_datetime']>=start_date]\n",
        "orders_reduced = orders_load.copy()"
      ],
      "metadata": {
        "id": "QZr-tD6DTE7U"
      },
      "execution_count": 11,
      "outputs": []
    },
    {
      "cell_type": "code",
      "source": [
        "del orders_load"
      ],
      "metadata": {
        "id": "DNE9jn8-TGHO"
      },
      "execution_count": 12,
      "outputs": []
    },
    {
      "cell_type": "code",
      "source": [
        "users_load = pd.read_csv('/content/drive/MyDrive/users.csv', dtype=dtype_dict)"
      ],
      "metadata": {
        "id": "acxIgQ6XHLit"
      },
      "execution_count": 13,
      "outputs": []
    },
    {
      "cell_type": "code",
      "source": [
        "orders = orders_reduced.merge(users_load, on='user_id', how='left')"
      ],
      "metadata": {
        "id": "JKAvJ8aeTNUU"
      },
      "execution_count": 14,
      "outputs": []
    },
    {
      "cell_type": "code",
      "source": [
        "del users_load, orders_reduced"
      ],
      "metadata": {
        "id": "5si-qelcTRZK"
      },
      "execution_count": 15,
      "outputs": []
    },
    {
      "cell_type": "code",
      "source": [
        "items_load = pd.read_csv('/content/drive/MyDrive/items.csv', dtype=dtype_dict)\n",
        "items_load.drop('user_id', inplace=True, axis=1)"
      ],
      "metadata": {
        "id": "IUYfWm5kHNOn"
      },
      "execution_count": 16,
      "outputs": []
    },
    {
      "cell_type": "code",
      "source": [
        "category_map = {'Accessories':'other',\n",
        "                'Drops':'other',\n",
        "                'Concentrates':'other',\n",
        "                'Topicals':'other',\n",
        "                'Prerolls':'prerolls',\n",
        "                'Vaporizers':'vaporizers',\n",
        "                'Flowers':'flower',\n",
        "                'Edibles':'edibles'}\n",
        "\n",
        "items_load['product_category'] = items_load['product_category'].map(category_map)"
      ],
      "metadata": {
        "id": "HOt7XeWnGVur"
      },
      "execution_count": 17,
      "outputs": []
    },
    {
      "cell_type": "code",
      "source": [
        "items_groupby = items_load.groupby(['order_id','product_category']).agg({'quantity':'sum'}).reset_index()\n",
        "\n",
        "reshaped_items = (items_groupby.pivot(index='order_id',columns='product_category',values=['quantity']).reset_index())"
      ],
      "metadata": {
        "id": "BXBUAnjbRQr3"
      },
      "execution_count": 18,
      "outputs": []
    },
    {
      "cell_type": "code",
      "source": [
        "reshaped_items.columns = reshaped_items.columns.droplevel(0)\n",
        "reshaped_items = reshaped_items.reset_index()\n",
        "reshaped_items = reshaped_items.rename(columns={'': 'order_id'})\n",
        "\n",
        "\n",
        "reshaped_items.head()"
      ],
      "metadata": {
        "colab": {
          "base_uri": "https://localhost:8080/",
          "height": 206
        },
        "id": "NCErHd2uJTd2",
        "outputId": "167bb37a-300c-45fb-916b-b81e9551b6e5"
      },
      "execution_count": 19,
      "outputs": [
        {
          "output_type": "execute_result",
          "data": {
            "text/plain": [
              "product_category  index  order_id  edibles  flower  other  prerolls  \\\n",
              "0                     0  10000000      3.0     NaN    NaN       NaN   \n",
              "1                     1  10000001      NaN     NaN    NaN       1.0   \n",
              "2                     2  10000002      2.0     NaN    NaN       2.0   \n",
              "3                     3  10000003      2.0     2.0    NaN       NaN   \n",
              "4                     4  10000004      NaN     2.0    1.0       NaN   \n",
              "\n",
              "product_category  vaporizers  \n",
              "0                        NaN  \n",
              "1                        1.0  \n",
              "2                        1.0  \n",
              "3                        NaN  \n",
              "4                        NaN  "
            ],
            "text/html": [
              "\n",
              "  <div id=\"df-d036e4b7-9537-4d47-9731-d956c7578344\" class=\"colab-df-container\">\n",
              "    <div>\n",
              "<style scoped>\n",
              "    .dataframe tbody tr th:only-of-type {\n",
              "        vertical-align: middle;\n",
              "    }\n",
              "\n",
              "    .dataframe tbody tr th {\n",
              "        vertical-align: top;\n",
              "    }\n",
              "\n",
              "    .dataframe thead th {\n",
              "        text-align: right;\n",
              "    }\n",
              "</style>\n",
              "<table border=\"1\" class=\"dataframe\">\n",
              "  <thead>\n",
              "    <tr style=\"text-align: right;\">\n",
              "      <th>product_category</th>\n",
              "      <th>index</th>\n",
              "      <th>order_id</th>\n",
              "      <th>edibles</th>\n",
              "      <th>flower</th>\n",
              "      <th>other</th>\n",
              "      <th>prerolls</th>\n",
              "      <th>vaporizers</th>\n",
              "    </tr>\n",
              "  </thead>\n",
              "  <tbody>\n",
              "    <tr>\n",
              "      <th>0</th>\n",
              "      <td>0</td>\n",
              "      <td>10000000</td>\n",
              "      <td>3.0</td>\n",
              "      <td>NaN</td>\n",
              "      <td>NaN</td>\n",
              "      <td>NaN</td>\n",
              "      <td>NaN</td>\n",
              "    </tr>\n",
              "    <tr>\n",
              "      <th>1</th>\n",
              "      <td>1</td>\n",
              "      <td>10000001</td>\n",
              "      <td>NaN</td>\n",
              "      <td>NaN</td>\n",
              "      <td>NaN</td>\n",
              "      <td>1.0</td>\n",
              "      <td>1.0</td>\n",
              "    </tr>\n",
              "    <tr>\n",
              "      <th>2</th>\n",
              "      <td>2</td>\n",
              "      <td>10000002</td>\n",
              "      <td>2.0</td>\n",
              "      <td>NaN</td>\n",
              "      <td>NaN</td>\n",
              "      <td>2.0</td>\n",
              "      <td>1.0</td>\n",
              "    </tr>\n",
              "    <tr>\n",
              "      <th>3</th>\n",
              "      <td>3</td>\n",
              "      <td>10000003</td>\n",
              "      <td>2.0</td>\n",
              "      <td>2.0</td>\n",
              "      <td>NaN</td>\n",
              "      <td>NaN</td>\n",
              "      <td>NaN</td>\n",
              "    </tr>\n",
              "    <tr>\n",
              "      <th>4</th>\n",
              "      <td>4</td>\n",
              "      <td>10000004</td>\n",
              "      <td>NaN</td>\n",
              "      <td>2.0</td>\n",
              "      <td>1.0</td>\n",
              "      <td>NaN</td>\n",
              "      <td>NaN</td>\n",
              "    </tr>\n",
              "  </tbody>\n",
              "</table>\n",
              "</div>\n",
              "    <div class=\"colab-df-buttons\">\n",
              "\n",
              "  <div class=\"colab-df-container\">\n",
              "    <button class=\"colab-df-convert\" onclick=\"convertToInteractive('df-d036e4b7-9537-4d47-9731-d956c7578344')\"\n",
              "            title=\"Convert this dataframe to an interactive table.\"\n",
              "            style=\"display:none;\">\n",
              "\n",
              "  <svg xmlns=\"http://www.w3.org/2000/svg\" height=\"24px\" viewBox=\"0 -960 960 960\">\n",
              "    <path d=\"M120-120v-720h720v720H120Zm60-500h600v-160H180v160Zm220 220h160v-160H400v160Zm0 220h160v-160H400v160ZM180-400h160v-160H180v160Zm440 0h160v-160H620v160ZM180-180h160v-160H180v160Zm440 0h160v-160H620v160Z\"/>\n",
              "  </svg>\n",
              "    </button>\n",
              "\n",
              "  <style>\n",
              "    .colab-df-container {\n",
              "      display:flex;\n",
              "      gap: 12px;\n",
              "    }\n",
              "\n",
              "    .colab-df-convert {\n",
              "      background-color: #E8F0FE;\n",
              "      border: none;\n",
              "      border-radius: 50%;\n",
              "      cursor: pointer;\n",
              "      display: none;\n",
              "      fill: #1967D2;\n",
              "      height: 32px;\n",
              "      padding: 0 0 0 0;\n",
              "      width: 32px;\n",
              "    }\n",
              "\n",
              "    .colab-df-convert:hover {\n",
              "      background-color: #E2EBFA;\n",
              "      box-shadow: 0px 1px 2px rgba(60, 64, 67, 0.3), 0px 1px 3px 1px rgba(60, 64, 67, 0.15);\n",
              "      fill: #174EA6;\n",
              "    }\n",
              "\n",
              "    .colab-df-buttons div {\n",
              "      margin-bottom: 4px;\n",
              "    }\n",
              "\n",
              "    [theme=dark] .colab-df-convert {\n",
              "      background-color: #3B4455;\n",
              "      fill: #D2E3FC;\n",
              "    }\n",
              "\n",
              "    [theme=dark] .colab-df-convert:hover {\n",
              "      background-color: #434B5C;\n",
              "      box-shadow: 0px 1px 3px 1px rgba(0, 0, 0, 0.15);\n",
              "      filter: drop-shadow(0px 1px 2px rgba(0, 0, 0, 0.3));\n",
              "      fill: #FFFFFF;\n",
              "    }\n",
              "  </style>\n",
              "\n",
              "    <script>\n",
              "      const buttonEl =\n",
              "        document.querySelector('#df-d036e4b7-9537-4d47-9731-d956c7578344 button.colab-df-convert');\n",
              "      buttonEl.style.display =\n",
              "        google.colab.kernel.accessAllowed ? 'block' : 'none';\n",
              "\n",
              "      async function convertToInteractive(key) {\n",
              "        const element = document.querySelector('#df-d036e4b7-9537-4d47-9731-d956c7578344');\n",
              "        const dataTable =\n",
              "          await google.colab.kernel.invokeFunction('convertToInteractive',\n",
              "                                                    [key], {});\n",
              "        if (!dataTable) return;\n",
              "\n",
              "        const docLinkHtml = 'Like what you see? Visit the ' +\n",
              "          '<a target=\"_blank\" href=https://colab.research.google.com/notebooks/data_table.ipynb>data table notebook</a>'\n",
              "          + ' to learn more about interactive tables.';\n",
              "        element.innerHTML = '';\n",
              "        dataTable['output_type'] = 'display_data';\n",
              "        await google.colab.output.renderOutput(dataTable, element);\n",
              "        const docLink = document.createElement('div');\n",
              "        docLink.innerHTML = docLinkHtml;\n",
              "        element.appendChild(docLink);\n",
              "      }\n",
              "    </script>\n",
              "  </div>\n",
              "\n",
              "\n",
              "<div id=\"df-bf25c8f8-6b52-4844-bf89-a70029ecbc27\">\n",
              "  <button class=\"colab-df-quickchart\" onclick=\"quickchart('df-bf25c8f8-6b52-4844-bf89-a70029ecbc27')\"\n",
              "            title=\"Suggest charts\"\n",
              "            style=\"display:none;\">\n",
              "\n",
              "<svg xmlns=\"http://www.w3.org/2000/svg\" height=\"24px\"viewBox=\"0 0 24 24\"\n",
              "     width=\"24px\">\n",
              "    <g>\n",
              "        <path d=\"M19 3H5c-1.1 0-2 .9-2 2v14c0 1.1.9 2 2 2h14c1.1 0 2-.9 2-2V5c0-1.1-.9-2-2-2zM9 17H7v-7h2v7zm4 0h-2V7h2v10zm4 0h-2v-4h2v4z\"/>\n",
              "    </g>\n",
              "</svg>\n",
              "  </button>\n",
              "\n",
              "<style>\n",
              "  .colab-df-quickchart {\n",
              "      --bg-color: #E8F0FE;\n",
              "      --fill-color: #1967D2;\n",
              "      --hover-bg-color: #E2EBFA;\n",
              "      --hover-fill-color: #174EA6;\n",
              "      --disabled-fill-color: #AAA;\n",
              "      --disabled-bg-color: #DDD;\n",
              "  }\n",
              "\n",
              "  [theme=dark] .colab-df-quickchart {\n",
              "      --bg-color: #3B4455;\n",
              "      --fill-color: #D2E3FC;\n",
              "      --hover-bg-color: #434B5C;\n",
              "      --hover-fill-color: #FFFFFF;\n",
              "      --disabled-bg-color: #3B4455;\n",
              "      --disabled-fill-color: #666;\n",
              "  }\n",
              "\n",
              "  .colab-df-quickchart {\n",
              "    background-color: var(--bg-color);\n",
              "    border: none;\n",
              "    border-radius: 50%;\n",
              "    cursor: pointer;\n",
              "    display: none;\n",
              "    fill: var(--fill-color);\n",
              "    height: 32px;\n",
              "    padding: 0;\n",
              "    width: 32px;\n",
              "  }\n",
              "\n",
              "  .colab-df-quickchart:hover {\n",
              "    background-color: var(--hover-bg-color);\n",
              "    box-shadow: 0 1px 2px rgba(60, 64, 67, 0.3), 0 1px 3px 1px rgba(60, 64, 67, 0.15);\n",
              "    fill: var(--button-hover-fill-color);\n",
              "  }\n",
              "\n",
              "  .colab-df-quickchart-complete:disabled,\n",
              "  .colab-df-quickchart-complete:disabled:hover {\n",
              "    background-color: var(--disabled-bg-color);\n",
              "    fill: var(--disabled-fill-color);\n",
              "    box-shadow: none;\n",
              "  }\n",
              "\n",
              "  .colab-df-spinner {\n",
              "    border: 2px solid var(--fill-color);\n",
              "    border-color: transparent;\n",
              "    border-bottom-color: var(--fill-color);\n",
              "    animation:\n",
              "      spin 1s steps(1) infinite;\n",
              "  }\n",
              "\n",
              "  @keyframes spin {\n",
              "    0% {\n",
              "      border-color: transparent;\n",
              "      border-bottom-color: var(--fill-color);\n",
              "      border-left-color: var(--fill-color);\n",
              "    }\n",
              "    20% {\n",
              "      border-color: transparent;\n",
              "      border-left-color: var(--fill-color);\n",
              "      border-top-color: var(--fill-color);\n",
              "    }\n",
              "    30% {\n",
              "      border-color: transparent;\n",
              "      border-left-color: var(--fill-color);\n",
              "      border-top-color: var(--fill-color);\n",
              "      border-right-color: var(--fill-color);\n",
              "    }\n",
              "    40% {\n",
              "      border-color: transparent;\n",
              "      border-right-color: var(--fill-color);\n",
              "      border-top-color: var(--fill-color);\n",
              "    }\n",
              "    60% {\n",
              "      border-color: transparent;\n",
              "      border-right-color: var(--fill-color);\n",
              "    }\n",
              "    80% {\n",
              "      border-color: transparent;\n",
              "      border-right-color: var(--fill-color);\n",
              "      border-bottom-color: var(--fill-color);\n",
              "    }\n",
              "    90% {\n",
              "      border-color: transparent;\n",
              "      border-bottom-color: var(--fill-color);\n",
              "    }\n",
              "  }\n",
              "</style>\n",
              "\n",
              "  <script>\n",
              "    async function quickchart(key) {\n",
              "      const quickchartButtonEl =\n",
              "        document.querySelector('#' + key + ' button');\n",
              "      quickchartButtonEl.disabled = true;  // To prevent multiple clicks.\n",
              "      quickchartButtonEl.classList.add('colab-df-spinner');\n",
              "      try {\n",
              "        const charts = await google.colab.kernel.invokeFunction(\n",
              "            'suggestCharts', [key], {});\n",
              "      } catch (error) {\n",
              "        console.error('Error during call to suggestCharts:', error);\n",
              "      }\n",
              "      quickchartButtonEl.classList.remove('colab-df-spinner');\n",
              "      quickchartButtonEl.classList.add('colab-df-quickchart-complete');\n",
              "    }\n",
              "    (() => {\n",
              "      let quickchartButtonEl =\n",
              "        document.querySelector('#df-bf25c8f8-6b52-4844-bf89-a70029ecbc27 button');\n",
              "      quickchartButtonEl.style.display =\n",
              "        google.colab.kernel.accessAllowed ? 'block' : 'none';\n",
              "    })();\n",
              "  </script>\n",
              "</div>\n",
              "\n",
              "    </div>\n",
              "  </div>\n"
            ],
            "application/vnd.google.colaboratory.intrinsic+json": {
              "type": "dataframe",
              "variable_name": "reshaped_items"
            }
          },
          "metadata": {},
          "execution_count": 19
        }
      ]
    },
    {
      "cell_type": "code",
      "source": [
        "reshaped = reshaped_items[['order_id','edibles','flower','prerolls','vaporizers']]\n",
        "reshaped.head()"
      ],
      "metadata": {
        "colab": {
          "base_uri": "https://localhost:8080/",
          "height": 206
        },
        "id": "Sy3M-EQvRTIG",
        "outputId": "5f4db1d8-7ce7-44cb-b327-9182d76d4187"
      },
      "execution_count": 20,
      "outputs": [
        {
          "output_type": "execute_result",
          "data": {
            "text/plain": [
              "product_category  order_id  edibles  flower  prerolls  vaporizers\n",
              "0                 10000000      3.0     NaN       NaN         NaN\n",
              "1                 10000001      NaN     NaN       1.0         1.0\n",
              "2                 10000002      2.0     NaN       2.0         1.0\n",
              "3                 10000003      2.0     2.0       NaN         NaN\n",
              "4                 10000004      NaN     2.0       NaN         NaN"
            ],
            "text/html": [
              "\n",
              "  <div id=\"df-cd29e17e-ffb4-4c9d-bc8a-806015afdd93\" class=\"colab-df-container\">\n",
              "    <div>\n",
              "<style scoped>\n",
              "    .dataframe tbody tr th:only-of-type {\n",
              "        vertical-align: middle;\n",
              "    }\n",
              "\n",
              "    .dataframe tbody tr th {\n",
              "        vertical-align: top;\n",
              "    }\n",
              "\n",
              "    .dataframe thead th {\n",
              "        text-align: right;\n",
              "    }\n",
              "</style>\n",
              "<table border=\"1\" class=\"dataframe\">\n",
              "  <thead>\n",
              "    <tr style=\"text-align: right;\">\n",
              "      <th>product_category</th>\n",
              "      <th>order_id</th>\n",
              "      <th>edibles</th>\n",
              "      <th>flower</th>\n",
              "      <th>prerolls</th>\n",
              "      <th>vaporizers</th>\n",
              "    </tr>\n",
              "  </thead>\n",
              "  <tbody>\n",
              "    <tr>\n",
              "      <th>0</th>\n",
              "      <td>10000000</td>\n",
              "      <td>3.0</td>\n",
              "      <td>NaN</td>\n",
              "      <td>NaN</td>\n",
              "      <td>NaN</td>\n",
              "    </tr>\n",
              "    <tr>\n",
              "      <th>1</th>\n",
              "      <td>10000001</td>\n",
              "      <td>NaN</td>\n",
              "      <td>NaN</td>\n",
              "      <td>1.0</td>\n",
              "      <td>1.0</td>\n",
              "    </tr>\n",
              "    <tr>\n",
              "      <th>2</th>\n",
              "      <td>10000002</td>\n",
              "      <td>2.0</td>\n",
              "      <td>NaN</td>\n",
              "      <td>2.0</td>\n",
              "      <td>1.0</td>\n",
              "    </tr>\n",
              "    <tr>\n",
              "      <th>3</th>\n",
              "      <td>10000003</td>\n",
              "      <td>2.0</td>\n",
              "      <td>2.0</td>\n",
              "      <td>NaN</td>\n",
              "      <td>NaN</td>\n",
              "    </tr>\n",
              "    <tr>\n",
              "      <th>4</th>\n",
              "      <td>10000004</td>\n",
              "      <td>NaN</td>\n",
              "      <td>2.0</td>\n",
              "      <td>NaN</td>\n",
              "      <td>NaN</td>\n",
              "    </tr>\n",
              "  </tbody>\n",
              "</table>\n",
              "</div>\n",
              "    <div class=\"colab-df-buttons\">\n",
              "\n",
              "  <div class=\"colab-df-container\">\n",
              "    <button class=\"colab-df-convert\" onclick=\"convertToInteractive('df-cd29e17e-ffb4-4c9d-bc8a-806015afdd93')\"\n",
              "            title=\"Convert this dataframe to an interactive table.\"\n",
              "            style=\"display:none;\">\n",
              "\n",
              "  <svg xmlns=\"http://www.w3.org/2000/svg\" height=\"24px\" viewBox=\"0 -960 960 960\">\n",
              "    <path d=\"M120-120v-720h720v720H120Zm60-500h600v-160H180v160Zm220 220h160v-160H400v160Zm0 220h160v-160H400v160ZM180-400h160v-160H180v160Zm440 0h160v-160H620v160ZM180-180h160v-160H180v160Zm440 0h160v-160H620v160Z\"/>\n",
              "  </svg>\n",
              "    </button>\n",
              "\n",
              "  <style>\n",
              "    .colab-df-container {\n",
              "      display:flex;\n",
              "      gap: 12px;\n",
              "    }\n",
              "\n",
              "    .colab-df-convert {\n",
              "      background-color: #E8F0FE;\n",
              "      border: none;\n",
              "      border-radius: 50%;\n",
              "      cursor: pointer;\n",
              "      display: none;\n",
              "      fill: #1967D2;\n",
              "      height: 32px;\n",
              "      padding: 0 0 0 0;\n",
              "      width: 32px;\n",
              "    }\n",
              "\n",
              "    .colab-df-convert:hover {\n",
              "      background-color: #E2EBFA;\n",
              "      box-shadow: 0px 1px 2px rgba(60, 64, 67, 0.3), 0px 1px 3px 1px rgba(60, 64, 67, 0.15);\n",
              "      fill: #174EA6;\n",
              "    }\n",
              "\n",
              "    .colab-df-buttons div {\n",
              "      margin-bottom: 4px;\n",
              "    }\n",
              "\n",
              "    [theme=dark] .colab-df-convert {\n",
              "      background-color: #3B4455;\n",
              "      fill: #D2E3FC;\n",
              "    }\n",
              "\n",
              "    [theme=dark] .colab-df-convert:hover {\n",
              "      background-color: #434B5C;\n",
              "      box-shadow: 0px 1px 3px 1px rgba(0, 0, 0, 0.15);\n",
              "      filter: drop-shadow(0px 1px 2px rgba(0, 0, 0, 0.3));\n",
              "      fill: #FFFFFF;\n",
              "    }\n",
              "  </style>\n",
              "\n",
              "    <script>\n",
              "      const buttonEl =\n",
              "        document.querySelector('#df-cd29e17e-ffb4-4c9d-bc8a-806015afdd93 button.colab-df-convert');\n",
              "      buttonEl.style.display =\n",
              "        google.colab.kernel.accessAllowed ? 'block' : 'none';\n",
              "\n",
              "      async function convertToInteractive(key) {\n",
              "        const element = document.querySelector('#df-cd29e17e-ffb4-4c9d-bc8a-806015afdd93');\n",
              "        const dataTable =\n",
              "          await google.colab.kernel.invokeFunction('convertToInteractive',\n",
              "                                                    [key], {});\n",
              "        if (!dataTable) return;\n",
              "\n",
              "        const docLinkHtml = 'Like what you see? Visit the ' +\n",
              "          '<a target=\"_blank\" href=https://colab.research.google.com/notebooks/data_table.ipynb>data table notebook</a>'\n",
              "          + ' to learn more about interactive tables.';\n",
              "        element.innerHTML = '';\n",
              "        dataTable['output_type'] = 'display_data';\n",
              "        await google.colab.output.renderOutput(dataTable, element);\n",
              "        const docLink = document.createElement('div');\n",
              "        docLink.innerHTML = docLinkHtml;\n",
              "        element.appendChild(docLink);\n",
              "      }\n",
              "    </script>\n",
              "  </div>\n",
              "\n",
              "\n",
              "<div id=\"df-7afd3e7c-0468-4e2b-8307-65b04c8cbb91\">\n",
              "  <button class=\"colab-df-quickchart\" onclick=\"quickchart('df-7afd3e7c-0468-4e2b-8307-65b04c8cbb91')\"\n",
              "            title=\"Suggest charts\"\n",
              "            style=\"display:none;\">\n",
              "\n",
              "<svg xmlns=\"http://www.w3.org/2000/svg\" height=\"24px\"viewBox=\"0 0 24 24\"\n",
              "     width=\"24px\">\n",
              "    <g>\n",
              "        <path d=\"M19 3H5c-1.1 0-2 .9-2 2v14c0 1.1.9 2 2 2h14c1.1 0 2-.9 2-2V5c0-1.1-.9-2-2-2zM9 17H7v-7h2v7zm4 0h-2V7h2v10zm4 0h-2v-4h2v4z\"/>\n",
              "    </g>\n",
              "</svg>\n",
              "  </button>\n",
              "\n",
              "<style>\n",
              "  .colab-df-quickchart {\n",
              "      --bg-color: #E8F0FE;\n",
              "      --fill-color: #1967D2;\n",
              "      --hover-bg-color: #E2EBFA;\n",
              "      --hover-fill-color: #174EA6;\n",
              "      --disabled-fill-color: #AAA;\n",
              "      --disabled-bg-color: #DDD;\n",
              "  }\n",
              "\n",
              "  [theme=dark] .colab-df-quickchart {\n",
              "      --bg-color: #3B4455;\n",
              "      --fill-color: #D2E3FC;\n",
              "      --hover-bg-color: #434B5C;\n",
              "      --hover-fill-color: #FFFFFF;\n",
              "      --disabled-bg-color: #3B4455;\n",
              "      --disabled-fill-color: #666;\n",
              "  }\n",
              "\n",
              "  .colab-df-quickchart {\n",
              "    background-color: var(--bg-color);\n",
              "    border: none;\n",
              "    border-radius: 50%;\n",
              "    cursor: pointer;\n",
              "    display: none;\n",
              "    fill: var(--fill-color);\n",
              "    height: 32px;\n",
              "    padding: 0;\n",
              "    width: 32px;\n",
              "  }\n",
              "\n",
              "  .colab-df-quickchart:hover {\n",
              "    background-color: var(--hover-bg-color);\n",
              "    box-shadow: 0 1px 2px rgba(60, 64, 67, 0.3), 0 1px 3px 1px rgba(60, 64, 67, 0.15);\n",
              "    fill: var(--button-hover-fill-color);\n",
              "  }\n",
              "\n",
              "  .colab-df-quickchart-complete:disabled,\n",
              "  .colab-df-quickchart-complete:disabled:hover {\n",
              "    background-color: var(--disabled-bg-color);\n",
              "    fill: var(--disabled-fill-color);\n",
              "    box-shadow: none;\n",
              "  }\n",
              "\n",
              "  .colab-df-spinner {\n",
              "    border: 2px solid var(--fill-color);\n",
              "    border-color: transparent;\n",
              "    border-bottom-color: var(--fill-color);\n",
              "    animation:\n",
              "      spin 1s steps(1) infinite;\n",
              "  }\n",
              "\n",
              "  @keyframes spin {\n",
              "    0% {\n",
              "      border-color: transparent;\n",
              "      border-bottom-color: var(--fill-color);\n",
              "      border-left-color: var(--fill-color);\n",
              "    }\n",
              "    20% {\n",
              "      border-color: transparent;\n",
              "      border-left-color: var(--fill-color);\n",
              "      border-top-color: var(--fill-color);\n",
              "    }\n",
              "    30% {\n",
              "      border-color: transparent;\n",
              "      border-left-color: var(--fill-color);\n",
              "      border-top-color: var(--fill-color);\n",
              "      border-right-color: var(--fill-color);\n",
              "    }\n",
              "    40% {\n",
              "      border-color: transparent;\n",
              "      border-right-color: var(--fill-color);\n",
              "      border-top-color: var(--fill-color);\n",
              "    }\n",
              "    60% {\n",
              "      border-color: transparent;\n",
              "      border-right-color: var(--fill-color);\n",
              "    }\n",
              "    80% {\n",
              "      border-color: transparent;\n",
              "      border-right-color: var(--fill-color);\n",
              "      border-bottom-color: var(--fill-color);\n",
              "    }\n",
              "    90% {\n",
              "      border-color: transparent;\n",
              "      border-bottom-color: var(--fill-color);\n",
              "    }\n",
              "  }\n",
              "</style>\n",
              "\n",
              "  <script>\n",
              "    async function quickchart(key) {\n",
              "      const quickchartButtonEl =\n",
              "        document.querySelector('#' + key + ' button');\n",
              "      quickchartButtonEl.disabled = true;  // To prevent multiple clicks.\n",
              "      quickchartButtonEl.classList.add('colab-df-spinner');\n",
              "      try {\n",
              "        const charts = await google.colab.kernel.invokeFunction(\n",
              "            'suggestCharts', [key], {});\n",
              "      } catch (error) {\n",
              "        console.error('Error during call to suggestCharts:', error);\n",
              "      }\n",
              "      quickchartButtonEl.classList.remove('colab-df-spinner');\n",
              "      quickchartButtonEl.classList.add('colab-df-quickchart-complete');\n",
              "    }\n",
              "    (() => {\n",
              "      let quickchartButtonEl =\n",
              "        document.querySelector('#df-7afd3e7c-0468-4e2b-8307-65b04c8cbb91 button');\n",
              "      quickchartButtonEl.style.display =\n",
              "        google.colab.kernel.accessAllowed ? 'block' : 'none';\n",
              "    })();\n",
              "  </script>\n",
              "</div>\n",
              "\n",
              "    </div>\n",
              "  </div>\n"
            ],
            "application/vnd.google.colaboratory.intrinsic+json": {
              "type": "dataframe",
              "variable_name": "reshaped"
            }
          },
          "metadata": {},
          "execution_count": 20
        }
      ]
    },
    {
      "cell_type": "code",
      "source": [
        "orders = orders.merge(reshaped, on='order_id', how='left')"
      ],
      "metadata": {
        "id": "wuhucm74TUPc"
      },
      "execution_count": 21,
      "outputs": []
    },
    {
      "cell_type": "code",
      "source": [
        "orders = orders.drop('promo_code', axis=1)\n",
        "orders['account_created_at'] = pd.to_datetime(orders['account_created_at'])\n",
        "orders['birthdate'] = pd.to_datetime(orders['birthdate'])"
      ],
      "metadata": {
        "id": "gWBke7XUT0-G"
      },
      "execution_count": 22,
      "outputs": []
    },
    {
      "cell_type": "code",
      "source": [
        "orders.info()"
      ],
      "metadata": {
        "colab": {
          "base_uri": "https://localhost:8080/"
        },
        "id": "2i6M8AwGTa5d",
        "outputId": "4b6e5847-c623-40a3-dbda-5b3ba1e57883"
      },
      "execution_count": 23,
      "outputs": [
        {
          "output_type": "stream",
          "name": "stdout",
          "text": [
            "<class 'pandas.core.frame.DataFrame'>\n",
            "RangeIndex: 54590 entries, 0 to 54589\n",
            "Data columns (total 17 columns):\n",
            " #   Column                Non-Null Count  Dtype         \n",
            "---  ------                --------------  -----         \n",
            " 0   order_id              54590 non-null  string        \n",
            " 1   user_id               54590 non-null  string        \n",
            " 2   delivery_datetime     54590 non-null  datetime64[ns]\n",
            " 3   wait_time             54574 non-null  float64       \n",
            " 4   promo_credit          54590 non-null  float64       \n",
            " 5   order_price_total     54590 non-null  float64       \n",
            " 6   payment_method        54590 non-null  category      \n",
            " 7   days_since_order      51930 non-null  float64       \n",
            " 8   avg_freq              54590 non-null  float64       \n",
            " 9   user_zipcode_current  54590 non-null  category      \n",
            " 10  account_created_at    54590 non-null  datetime64[ns]\n",
            " 11  birthdate             54191 non-null  datetime64[ns]\n",
            " 12  gender                42715 non-null  category      \n",
            " 13  edibles               21149 non-null  float64       \n",
            " 14  flower                21070 non-null  float64       \n",
            " 15  prerolls              16280 non-null  float64       \n",
            " 16  vaporizers            24326 non-null  float64       \n",
            "dtypes: category(3), datetime64[ns](3), float64(9), string(2)\n",
            "memory usage: 7.3 MB\n"
          ]
        }
      ]
    },
    {
      "cell_type": "code",
      "source": [
        "del items_load, items_groupby, reshaped_items, reshaped"
      ],
      "metadata": {
        "id": "uo0Zqu1OTZZt"
      },
      "execution_count": 24,
      "outputs": []
    },
    {
      "cell_type": "code",
      "source": [
        "orders['age_at_purchase'] = round(orders.delivery_datetime.dt.year - orders.birthdate.dt.year)\n",
        "\n",
        "orders['account_age_at_purchase'] =  (orders.delivery_datetime.dt.year - orders.account_created_at.dt.year)*12+orders.delivery_datetime.dt.month - orders.account_created_at.dt.month"
      ],
      "metadata": {
        "id": "bfDQ3EbLhLGr"
      },
      "execution_count": 25,
      "outputs": []
    },
    {
      "cell_type": "code",
      "source": [
        "orders['weekday'] = orders.delivery_datetime.dt.dayofweek\n",
        "orders['hour'] = orders.delivery_datetime.dt.hour\n",
        "orders['month'] = orders.delivery_datetime.dt.month"
      ],
      "metadata": {
        "id": "Xc8jnb9ahS3K"
      },
      "execution_count": 26,
      "outputs": []
    },
    {
      "cell_type": "code",
      "source": [
        "payment_map = {'POB':'card',\n",
        "               'ACH':'ach',\n",
        "               'Cash':'cash',\n",
        "               'Pin Debit':'card',\n",
        "               'Online Debit':'card',\n",
        "               'Account Credit':'promotion'}\n",
        "\n",
        "orders.payment_method = orders.payment_method.map(payment_map)"
      ],
      "metadata": {
        "id": "SnQ7B5DGH25G"
      },
      "execution_count": 27,
      "outputs": []
    },
    {
      "cell_type": "code",
      "source": [
        "orders['is_payment_ach'] = (orders['payment_method'] == 'ach').astype(int)\n",
        "orders['is_payment_card'] = (orders['payment_method'] == 'card').astype(int)\n",
        "orders['is_payment_cash'] = (orders['payment_method'] == 'cash').astype(int)\n",
        "orders['is_payment_promotion'] = (orders['payment_method'] == 'promotion').astype(int)"
      ],
      "metadata": {
        "id": "WDl9CO63gVqZ"
      },
      "execution_count": 28,
      "outputs": []
    },
    {
      "cell_type": "code",
      "source": [
        "orders['is_male'] = (orders['gender'] == 'Male').astype(int)\n",
        "orders['is_female'] = (orders['gender'] == 'Female').astype(int)"
      ],
      "metadata": {
        "id": "sLP9maqyimnP"
      },
      "execution_count": 29,
      "outputs": []
    },
    {
      "cell_type": "code",
      "source": [
        "orders.info()"
      ],
      "metadata": {
        "colab": {
          "base_uri": "https://localhost:8080/"
        },
        "id": "ozIJwmQFipH7",
        "outputId": "a985d6dd-6966-4160-dc83-ebd719986bca"
      },
      "execution_count": 30,
      "outputs": [
        {
          "output_type": "stream",
          "name": "stdout",
          "text": [
            "<class 'pandas.core.frame.DataFrame'>\n",
            "RangeIndex: 54590 entries, 0 to 54589\n",
            "Data columns (total 28 columns):\n",
            " #   Column                   Non-Null Count  Dtype         \n",
            "---  ------                   --------------  -----         \n",
            " 0   order_id                 54590 non-null  string        \n",
            " 1   user_id                  54590 non-null  string        \n",
            " 2   delivery_datetime        54590 non-null  datetime64[ns]\n",
            " 3   wait_time                54574 non-null  float64       \n",
            " 4   promo_credit             54590 non-null  float64       \n",
            " 5   order_price_total        54590 non-null  float64       \n",
            " 6   payment_method           54590 non-null  object        \n",
            " 7   days_since_order         51930 non-null  float64       \n",
            " 8   avg_freq                 54590 non-null  float64       \n",
            " 9   user_zipcode_current     54590 non-null  category      \n",
            " 10  account_created_at       54590 non-null  datetime64[ns]\n",
            " 11  birthdate                54191 non-null  datetime64[ns]\n",
            " 12  gender                   42715 non-null  category      \n",
            " 13  edibles                  21149 non-null  float64       \n",
            " 14  flower                   21070 non-null  float64       \n",
            " 15  prerolls                 16280 non-null  float64       \n",
            " 16  vaporizers               24326 non-null  float64       \n",
            " 17  age_at_purchase          54191 non-null  float64       \n",
            " 18  account_age_at_purchase  54590 non-null  int32         \n",
            " 19  weekday                  54590 non-null  int32         \n",
            " 20  hour                     54590 non-null  int32         \n",
            " 21  month                    54590 non-null  int32         \n",
            " 22  is_payment_ach           54590 non-null  int64         \n",
            " 23  is_payment_card          54590 non-null  int64         \n",
            " 24  is_payment_cash          54590 non-null  int64         \n",
            " 25  is_payment_promotion     54590 non-null  int64         \n",
            " 26  is_male                  54590 non-null  int64         \n",
            " 27  is_female                54590 non-null  int64         \n",
            "dtypes: category(2), datetime64[ns](3), float64(10), int32(4), int64(6), object(1), string(2)\n",
            "memory usage: 11.4+ MB\n"
          ]
        }
      ]
    },
    {
      "cell_type": "code",
      "source": [
        "fill_values = {\n",
        "    'wait_time': orders['wait_time'].mean(),\n",
        "    'days_since_order': orders['days_since_order'].mean(),\n",
        "    'avg_freq': orders['avg_freq'].mean(),\n",
        "    'edibles': 0,\n",
        "    'flower': 0,\n",
        "    'prerolls': 0,\n",
        "    'vaporizers': 0,\n",
        "    'age_at_purchase': orders['age_at_purchase'].mean()\n",
        "    }\n",
        "\n",
        "orders = orders.fillna(fill_values)"
      ],
      "metadata": {
        "id": "NRpSqP3Cj1mz"
      },
      "execution_count": 31,
      "outputs": []
    },
    {
      "cell_type": "code",
      "source": [
        "orders_final = orders.drop(['order_id','account_created_at','birthdate','gender','payment_method','wait_time'], axis=1).copy()"
      ],
      "metadata": {
        "id": "uY_QXuvCi6g7"
      },
      "execution_count": 32,
      "outputs": []
    },
    {
      "cell_type": "code",
      "source": [
        "orders_final.info()"
      ],
      "metadata": {
        "colab": {
          "base_uri": "https://localhost:8080/"
        },
        "id": "oxY9PrmxjSc0",
        "outputId": "52f71bc4-a87f-4975-a2fc-0b657296ec76"
      },
      "execution_count": 33,
      "outputs": [
        {
          "output_type": "stream",
          "name": "stdout",
          "text": [
            "<class 'pandas.core.frame.DataFrame'>\n",
            "RangeIndex: 54590 entries, 0 to 54589\n",
            "Data columns (total 22 columns):\n",
            " #   Column                   Non-Null Count  Dtype         \n",
            "---  ------                   --------------  -----         \n",
            " 0   user_id                  54590 non-null  string        \n",
            " 1   delivery_datetime        54590 non-null  datetime64[ns]\n",
            " 2   promo_credit             54590 non-null  float64       \n",
            " 3   order_price_total        54590 non-null  float64       \n",
            " 4   days_since_order         54590 non-null  float64       \n",
            " 5   avg_freq                 54590 non-null  float64       \n",
            " 6   user_zipcode_current     54590 non-null  category      \n",
            " 7   edibles                  54590 non-null  float64       \n",
            " 8   flower                   54590 non-null  float64       \n",
            " 9   prerolls                 54590 non-null  float64       \n",
            " 10  vaporizers               54590 non-null  float64       \n",
            " 11  age_at_purchase          54590 non-null  float64       \n",
            " 12  account_age_at_purchase  54590 non-null  int32         \n",
            " 13  weekday                  54590 non-null  int32         \n",
            " 14  hour                     54590 non-null  int32         \n",
            " 15  month                    54590 non-null  int32         \n",
            " 16  is_payment_ach           54590 non-null  int64         \n",
            " 17  is_payment_card          54590 non-null  int64         \n",
            " 18  is_payment_cash          54590 non-null  int64         \n",
            " 19  is_payment_promotion     54590 non-null  int64         \n",
            " 20  is_male                  54590 non-null  int64         \n",
            " 21  is_female                54590 non-null  int64         \n",
            "dtypes: category(1), datetime64[ns](1), float64(9), int32(4), int64(6), string(1)\n",
            "memory usage: 9.2 MB\n"
          ]
        }
      ]
    },
    {
      "cell_type": "code",
      "source": [
        "user_count = orders_final.user_id.nunique()\n",
        "user_count"
      ],
      "metadata": {
        "colab": {
          "base_uri": "https://localhost:8080/"
        },
        "id": "G6JUspBby53S",
        "outputId": "bfa09d36-9bd7-426e-83cd-f0c292884cec"
      },
      "execution_count": 34,
      "outputs": [
        {
          "output_type": "execute_result",
          "data": {
            "text/plain": [
              "2660"
            ]
          },
          "metadata": {},
          "execution_count": 34
        }
      ]
    },
    {
      "cell_type": "markdown",
      "source": [
        "# Deep Learning START"
      ],
      "metadata": {
        "id": "Sdn0IKh-ctV8"
      }
    },
    {
      "cell_type": "code",
      "source": [
        "print(\"Num GPUs Available: \", len(tf.config.list_physical_devices('GPU')))\n",
        "physical_devices = tf.config.list_physical_devices('GPU')\n",
        "if physical_devices:\n",
        "    try:\n",
        "        # Configure GPU memory growth\n",
        "        for gpu in physical_devices:\n",
        "            tf.config.experimental.set_memory_growth(gpu, True)\n",
        "        print(\"GPU memory growth enabled\")\n",
        "\n",
        "        # Set mixed precision policy\n",
        "        tf.keras.mixed_precision.set_global_policy('mixed_float16')\n",
        "        print(\"Mixed precision policy set to float16\")\n",
        "    except RuntimeError as e:\n",
        "        print(e)"
      ],
      "metadata": {
        "colab": {
          "base_uri": "https://localhost:8080/"
        },
        "id": "ET-p7Yg8qYmK",
        "outputId": "18fa439e-3957-49a0-e01a-495b56afdd23"
      },
      "execution_count": 35,
      "outputs": [
        {
          "output_type": "stream",
          "name": "stdout",
          "text": [
            "Num GPUs Available:  1\n",
            "GPU memory growth enabled\n",
            "Mixed precision policy set to float16\n"
          ]
        }
      ]
    },
    {
      "cell_type": "code",
      "source": [
        "# Before calling create_batch_sequences:\n",
        "print(\"Data check:\")\n",
        "user_counts = orders_final.groupby('user_id').size()\n",
        "print(\"\\nOrder counts distribution:\")\n",
        "print(user_counts.describe())\n",
        "print(f\"\\nUsers with 5+ orders: {sum(user_counts >= 5)}\")\n",
        "print(f\"Min orders for a user: {user_counts.min()}\")\n",
        "print(f\"Max orders for a user: {user_counts.max()}\")"
      ],
      "metadata": {
        "colab": {
          "base_uri": "https://localhost:8080/"
        },
        "id": "ZXxgwRlr4NPH",
        "outputId": "f6de4239-1488-4370-ef99-2fb19806b6c5"
      },
      "execution_count": 36,
      "outputs": [
        {
          "output_type": "stream",
          "name": "stdout",
          "text": [
            "Data check:\n",
            "\n",
            "Order counts distribution:\n",
            "count    2660.000000\n",
            "mean       20.522556\n",
            "std        26.527496\n",
            "min         5.000000\n",
            "25%         7.000000\n",
            "50%        11.000000\n",
            "75%        22.000000\n",
            "max       263.000000\n",
            "dtype: float64\n",
            "\n",
            "Users with 5+ orders: 2660\n",
            "Min orders for a user: 5\n",
            "Max orders for a user: 263\n"
          ]
        }
      ]
    },
    {
      "cell_type": "code",
      "source": [
        "# Before running create_batch_sequences:\n",
        "df=orders_final\n",
        "print(\"Date range of data:\")\n",
        "print(f\"Start: {df['delivery_datetime'].min()}\")\n",
        "print(f\"End: {df['delivery_datetime'].max()}\")\n",
        "print(f\"Days spanned: {(df['delivery_datetime'].max() - df['delivery_datetime'].min()).days}\")"
      ],
      "metadata": {
        "colab": {
          "base_uri": "https://localhost:8080/"
        },
        "id": "FAHAwGNn6TSs",
        "outputId": "46457213-3362-4e4f-cc83-c8f9513e2ee1"
      },
      "execution_count": 37,
      "outputs": [
        {
          "output_type": "stream",
          "name": "stdout",
          "text": [
            "Date range of data:\n",
            "Start: 2020-01-01 00:32:05.740000\n",
            "End: 2025-01-25 17:29:22.043000\n",
            "Days spanned: 1851\n"
          ]
        }
      ]
    },
    {
      "cell_type": "code",
      "source": [
        "class OrderSequenceGenerator(tf.keras.utils.Sequence):\n",
        "    def __init__(self, df, sequence_length=180, batch_size=32, validation=False, **kwargs):\n",
        "        super().__init__(**kwargs)  # Add super init to handle kwargs\n",
        "        self.df = df.copy()\n",
        "        self.sequence_length = sequence_length\n",
        "        self.batch_size = batch_size\n",
        "        self.validation = validation\n",
        "\n",
        "        # Pre-sort data by user and datetime\n",
        "        self.df['date'] = self.df['delivery_datetime'].dt.date\n",
        "        self.df = self.df.sort_values(['user_id', 'delivery_datetime'])\n",
        "\n",
        "        # Create user-order pairs for sequences\n",
        "        self.sequences = []\n",
        "        for user_id in self.df['user_id'].unique():\n",
        "            user_orders = self.df[self.df['user_id'] == user_id]\n",
        "            if len(user_orders) >= 5:  # Minimum order requirement\n",
        "                # For validation, only use the last order\n",
        "                if validation:\n",
        "                    if len(user_orders) > 5:  # Ensure we have enough history\n",
        "                        self.sequences.append((user_id, user_orders.index[-1]))\n",
        "                else:\n",
        "                    # For training, use all orders except the last one\n",
        "                    for idx in user_orders.index[4:-1]:  # Start from 5th order to ensure history\n",
        "                        self.sequences.append((user_id, idx))\n",
        "\n",
        "        self.indexes = np.arange(len(self.sequences))\n",
        "        print(f\"Created {'validation' if validation else 'training'} generator with {len(self.sequences)} sequences\")\n",
        "\n",
        "    def __len__(self):\n",
        "        return max(1, int(np.ceil(len(self.sequences) / self.batch_size)))\n",
        "\n",
        "    def __getitem__(self, idx):\n",
        "        # Get batch indexes\n",
        "        batch_indexes = self.indexes[idx * self.batch_size:(idx + 1) * self.batch_size]\n",
        "        batch_sequences = [self.sequences[i] for i in batch_indexes]\n",
        "\n",
        "        # Initialize batch arrays\n",
        "        features = ['promo_credit', 'order_price_total', 'days_since_order',\n",
        "                   'avg_freq', 'edibles', 'flower', 'prerolls', 'vaporizers',\n",
        "                   'age_at_purchase', 'account_age_at_purchase', 'weekday',\n",
        "                   'hour', 'month', 'is_payment_ach', 'is_payment_card',\n",
        "                   'is_payment_cash', 'is_payment_promotion', 'is_male', 'is_female']\n",
        "\n",
        "        batch_size = len(batch_sequences)\n",
        "        batch_X = np.zeros((batch_size, self.sequence_length, len(features)))\n",
        "        batch_y = np.zeros(batch_size)\n",
        "\n",
        "        for i, (user_id, order_idx) in enumerate(batch_sequences):\n",
        "            user_orders = self.df[self.df['user_id'] == user_id].copy()\n",
        "            current_order = user_orders.loc[order_idx]\n",
        "\n",
        "            # Create sequence leading up to current order\n",
        "            history_start = current_order['delivery_datetime'] - pd.Timedelta(days=self.sequence_length)\n",
        "\n",
        "            # Fill sequence array\n",
        "            history = user_orders[\n",
        "                (user_orders['delivery_datetime'] >= history_start) &\n",
        "                (user_orders['delivery_datetime'] < current_order['delivery_datetime'])\n",
        "            ]\n",
        "\n",
        "            for _, order in history.iterrows():\n",
        "                days_from_start = (order['delivery_datetime'] - history_start).days\n",
        "                if 0 <= days_from_start < self.sequence_length:\n",
        "                    batch_X[i, days_from_start] = order[features].values\n",
        "\n",
        "            # Check for order in next 7 days\n",
        "            next_week = current_order['delivery_datetime'] + pd.Timedelta(days=7)\n",
        "            future_order = user_orders[\n",
        "                (user_orders['delivery_datetime'] > current_order['delivery_datetime']) &\n",
        "                (user_orders['delivery_datetime'] <= next_week)\n",
        "            ]\n",
        "            batch_y[i] = 1 if len(future_order) > 0 else 0\n",
        "\n",
        "        return batch_X, batch_y\n",
        "\n",
        "    def on_epoch_end(self):\n",
        "        if not self.validation:  # Only shuffle training data\n",
        "            np.random.shuffle(self.indexes)"
      ],
      "metadata": {
        "id": "Z4kk_IdtWhSS"
      },
      "execution_count": 46,
      "outputs": []
    },
    {
      "cell_type": "code",
      "source": [
        "def train_model_with_generator(orders_df, batch_size=32, epochs=10):\n",
        "    print(\"Starting training preparation...\")\n",
        "\n",
        "    # Split into train and validation\n",
        "    train_cutoff = orders_df['delivery_datetime'].max() - timedelta(days=30)  # Increased validation period\n",
        "    train_df = orders_df[orders_df['delivery_datetime'] <= train_cutoff]\n",
        "    val_df = orders_df[orders_df['delivery_datetime'] > train_cutoff]\n",
        "\n",
        "    print(f\"Training data spans: {train_df['delivery_datetime'].min()} to {train_df['delivery_datetime'].max()}\")\n",
        "    print(f\"Validation data spans: {val_df['delivery_datetime'].min()} to {val_df['delivery_datetime'].max()}\")\n",
        "\n",
        "    # Create generators\n",
        "    train_generator = OrderSequenceGenerator(train_df, batch_size=batch_size, validation=False)\n",
        "    val_generator = OrderSequenceGenerator(val_df, batch_size=batch_size, validation=True)\n",
        "\n",
        "    # Create model\n",
        "    sequence_length = 180  # Fixed sequence length\n",
        "    n_features = 19       # Number of features\n",
        "\n",
        "    model = models.Sequential([\n",
        "        layers.Input(shape=(sequence_length, n_features)),\n",
        "        layers.LSTM(64, return_sequences=True),\n",
        "        layers.Dropout(0.2),\n",
        "        layers.LSTM(32),\n",
        "        layers.Dropout(0.2),\n",
        "        layers.Dense(16, activation='relu'),\n",
        "        layers.Dense(1, activation='sigmoid')\n",
        "    ])\n",
        "\n",
        "    optimizer = tf.keras.optimizers.Adam(learning_rate=0.001)\n",
        "\n",
        "    model.compile(optimizer=optimizer,\n",
        "                 loss='binary_crossentropy',\n",
        "                 metrics=['accuracy', tf.keras.metrics.AUC()])\n",
        "\n",
        "    # Train model\n",
        "    history = model.fit(\n",
        "        train_generator,\n",
        "        validation_data=val_generator,\n",
        "        epochs=epochs\n",
        "    )\n",
        "\n",
        "    return model, history.history"
      ],
      "metadata": {
        "id": "cFjQiXqlWlG_"
      },
      "execution_count": 47,
      "outputs": []
    },
    {
      "cell_type": "code",
      "source": [
        "model, history = train_model_with_generator(orders_final, batch_size=32, epochs=10)"
      ],
      "metadata": {
        "colab": {
          "base_uri": "https://localhost:8080/",
          "height": 637
        },
        "id": "hLzlxr5IReKo",
        "outputId": "ca690e9c-242b-4626-f958-85660adc71b1"
      },
      "execution_count": 48,
      "outputs": [
        {
          "output_type": "stream",
          "name": "stdout",
          "text": [
            "Starting training preparation...\n",
            "Training data spans: 2020-01-01 00:32:05.740000 to 2024-12-26 00:03:08.393000\n",
            "Validation data spans: 2024-12-26 18:15:16.057000 to 2025-01-25 17:29:22.043000\n",
            "Created training generator with 40734 sequences\n",
            "Created validation generator with 5 sequences\n",
            "Epoch 1/10\n",
            "\u001b[1m1273/1273\u001b[0m \u001b[32m━━━━━━━━━━━━━━━━━━━━\u001b[0m\u001b[37m\u001b[0m \u001b[1m514s\u001b[0m 401ms/step - accuracy: 0.8183 - auc_2: 0.7923 - loss: 0.4322 - val_accuracy: 0.0000e+00 - val_auc_2: 0.0000e+00 - val_loss: 1.0033\n",
            "Epoch 2/10\n",
            "\u001b[1m1273/1273\u001b[0m \u001b[32m━━━━━━━━━━━━━━━━━━━━\u001b[0m\u001b[37m\u001b[0m \u001b[1m510s\u001b[0m 401ms/step - accuracy: 0.8292 - auc_2: 0.8246 - loss: 0.4005 - val_accuracy: 0.0000e+00 - val_auc_2: 0.0000e+00 - val_loss: 1.3727\n",
            "Epoch 3/10\n",
            "\u001b[1m1273/1273\u001b[0m \u001b[32m━━━━━━━━━━━━━━━━━━━━\u001b[0m\u001b[37m\u001b[0m \u001b[1m510s\u001b[0m 401ms/step - accuracy: 0.8241 - auc_2: 0.8260 - loss: 0.4040 - val_accuracy: 0.0000e+00 - val_auc_2: 0.0000e+00 - val_loss: 1.3587\n",
            "Epoch 4/10\n",
            "\u001b[1m1273/1273\u001b[0m \u001b[32m━━━━━━━━━━━━━━━━━━━━\u001b[0m\u001b[37m\u001b[0m \u001b[1m510s\u001b[0m 401ms/step - accuracy: 0.8248 - auc_2: 0.8230 - loss: 0.4057 - val_accuracy: 0.0000e+00 - val_auc_2: 0.0000e+00 - val_loss: 1.1640\n",
            "Epoch 5/10\n",
            "\u001b[1m1273/1273\u001b[0m \u001b[32m━━━━━━━━━━━━━━━━━━━━\u001b[0m\u001b[37m\u001b[0m \u001b[1m513s\u001b[0m 403ms/step - accuracy: 0.8249 - auc_2: 0.8332 - loss: 0.4009 - val_accuracy: 0.2000 - val_auc_2: 0.0000e+00 - val_loss: 0.9537\n",
            "Epoch 6/10\n",
            "\u001b[1m1273/1273\u001b[0m \u001b[32m━━━━━━━━━━━━━━━━━━━━\u001b[0m\u001b[37m\u001b[0m \u001b[1m513s\u001b[0m 403ms/step - accuracy: 0.8262 - auc_2: 0.8315 - loss: 0.3982 - val_accuracy: 0.2000 - val_auc_2: 0.0000e+00 - val_loss: 1.0246\n",
            "Epoch 7/10\n",
            "\u001b[1m 193/1273\u001b[0m \u001b[32m━━━\u001b[0m\u001b[37m━━━━━━━━━━━━━━━━━\u001b[0m \u001b[1m7:17\u001b[0m 405ms/step - accuracy: 0.8299 - auc_2: 0.8454 - loss: 0.3875"
          ]
        },
        {
          "output_type": "error",
          "ename": "KeyboardInterrupt",
          "evalue": "",
          "traceback": [
            "\u001b[0;31m---------------------------------------------------------------------------\u001b[0m",
            "\u001b[0;31mKeyboardInterrupt\u001b[0m                         Traceback (most recent call last)",
            "\u001b[0;32m<ipython-input-48-a3c573edcab4>\u001b[0m in \u001b[0;36m<cell line: 0>\u001b[0;34m()\u001b[0m\n\u001b[0;32m----> 1\u001b[0;31m \u001b[0mmodel\u001b[0m\u001b[0;34m,\u001b[0m \u001b[0mhistory\u001b[0m \u001b[0;34m=\u001b[0m \u001b[0mtrain_model_with_generator\u001b[0m\u001b[0;34m(\u001b[0m\u001b[0morders_final\u001b[0m\u001b[0;34m,\u001b[0m \u001b[0mbatch_size\u001b[0m\u001b[0;34m=\u001b[0m\u001b[0;36m32\u001b[0m\u001b[0;34m,\u001b[0m \u001b[0mepochs\u001b[0m\u001b[0;34m=\u001b[0m\u001b[0;36m10\u001b[0m\u001b[0;34m)\u001b[0m\u001b[0;34m\u001b[0m\u001b[0;34m\u001b[0m\u001b[0m\n\u001b[0m",
            "\u001b[0;32m<ipython-input-47-db21d2767bca>\u001b[0m in \u001b[0;36mtrain_model_with_generator\u001b[0;34m(orders_df, batch_size, epochs)\u001b[0m\n\u001b[1;32m     35\u001b[0m \u001b[0;34m\u001b[0m\u001b[0m\n\u001b[1;32m     36\u001b[0m     \u001b[0;31m# Train model\u001b[0m\u001b[0;34m\u001b[0m\u001b[0;34m\u001b[0m\u001b[0m\n\u001b[0;32m---> 37\u001b[0;31m     history = model.fit(\n\u001b[0m\u001b[1;32m     38\u001b[0m         \u001b[0mtrain_generator\u001b[0m\u001b[0;34m,\u001b[0m\u001b[0;34m\u001b[0m\u001b[0;34m\u001b[0m\u001b[0m\n\u001b[1;32m     39\u001b[0m         \u001b[0mvalidation_data\u001b[0m\u001b[0;34m=\u001b[0m\u001b[0mval_generator\u001b[0m\u001b[0;34m,\u001b[0m\u001b[0;34m\u001b[0m\u001b[0;34m\u001b[0m\u001b[0m\n",
            "\u001b[0;32m/usr/local/lib/python3.11/dist-packages/keras/src/utils/traceback_utils.py\u001b[0m in \u001b[0;36merror_handler\u001b[0;34m(*args, **kwargs)\u001b[0m\n\u001b[1;32m    115\u001b[0m         \u001b[0mfiltered_tb\u001b[0m \u001b[0;34m=\u001b[0m \u001b[0;32mNone\u001b[0m\u001b[0;34m\u001b[0m\u001b[0;34m\u001b[0m\u001b[0m\n\u001b[1;32m    116\u001b[0m         \u001b[0;32mtry\u001b[0m\u001b[0;34m:\u001b[0m\u001b[0;34m\u001b[0m\u001b[0;34m\u001b[0m\u001b[0m\n\u001b[0;32m--> 117\u001b[0;31m             \u001b[0;32mreturn\u001b[0m \u001b[0mfn\u001b[0m\u001b[0;34m(\u001b[0m\u001b[0;34m*\u001b[0m\u001b[0margs\u001b[0m\u001b[0;34m,\u001b[0m \u001b[0;34m**\u001b[0m\u001b[0mkwargs\u001b[0m\u001b[0;34m)\u001b[0m\u001b[0;34m\u001b[0m\u001b[0;34m\u001b[0m\u001b[0m\n\u001b[0m\u001b[1;32m    118\u001b[0m         \u001b[0;32mexcept\u001b[0m \u001b[0mException\u001b[0m \u001b[0;32mas\u001b[0m \u001b[0me\u001b[0m\u001b[0;34m:\u001b[0m\u001b[0;34m\u001b[0m\u001b[0;34m\u001b[0m\u001b[0m\n\u001b[1;32m    119\u001b[0m             \u001b[0mfiltered_tb\u001b[0m \u001b[0;34m=\u001b[0m \u001b[0m_process_traceback_frames\u001b[0m\u001b[0;34m(\u001b[0m\u001b[0me\u001b[0m\u001b[0;34m.\u001b[0m\u001b[0m__traceback__\u001b[0m\u001b[0;34m)\u001b[0m\u001b[0;34m\u001b[0m\u001b[0;34m\u001b[0m\u001b[0m\n",
            "\u001b[0;32m/usr/local/lib/python3.11/dist-packages/keras/src/backend/tensorflow/trainer.py\u001b[0m in \u001b[0;36mfit\u001b[0;34m(self, x, y, batch_size, epochs, verbose, callbacks, validation_split, validation_data, shuffle, class_weight, sample_weight, initial_epoch, steps_per_epoch, validation_steps, validation_batch_size, validation_freq)\u001b[0m\n\u001b[1;32m    369\u001b[0m                 \u001b[0;32mfor\u001b[0m \u001b[0mstep\u001b[0m\u001b[0;34m,\u001b[0m \u001b[0miterator\u001b[0m \u001b[0;32min\u001b[0m \u001b[0mepoch_iterator\u001b[0m\u001b[0;34m:\u001b[0m\u001b[0;34m\u001b[0m\u001b[0;34m\u001b[0m\u001b[0m\n\u001b[1;32m    370\u001b[0m                     \u001b[0mcallbacks\u001b[0m\u001b[0;34m.\u001b[0m\u001b[0mon_train_batch_begin\u001b[0m\u001b[0;34m(\u001b[0m\u001b[0mstep\u001b[0m\u001b[0;34m)\u001b[0m\u001b[0;34m\u001b[0m\u001b[0;34m\u001b[0m\u001b[0m\n\u001b[0;32m--> 371\u001b[0;31m                     \u001b[0mlogs\u001b[0m \u001b[0;34m=\u001b[0m \u001b[0mself\u001b[0m\u001b[0;34m.\u001b[0m\u001b[0mtrain_function\u001b[0m\u001b[0;34m(\u001b[0m\u001b[0miterator\u001b[0m\u001b[0;34m)\u001b[0m\u001b[0;34m\u001b[0m\u001b[0;34m\u001b[0m\u001b[0m\n\u001b[0m\u001b[1;32m    372\u001b[0m                     \u001b[0mcallbacks\u001b[0m\u001b[0;34m.\u001b[0m\u001b[0mon_train_batch_end\u001b[0m\u001b[0;34m(\u001b[0m\u001b[0mstep\u001b[0m\u001b[0;34m,\u001b[0m \u001b[0mlogs\u001b[0m\u001b[0;34m)\u001b[0m\u001b[0;34m\u001b[0m\u001b[0;34m\u001b[0m\u001b[0m\n\u001b[1;32m    373\u001b[0m                     \u001b[0;32mif\u001b[0m \u001b[0mself\u001b[0m\u001b[0;34m.\u001b[0m\u001b[0mstop_training\u001b[0m\u001b[0;34m:\u001b[0m\u001b[0;34m\u001b[0m\u001b[0;34m\u001b[0m\u001b[0m\n",
            "\u001b[0;32m/usr/local/lib/python3.11/dist-packages/keras/src/backend/tensorflow/trainer.py\u001b[0m in \u001b[0;36mfunction\u001b[0;34m(iterator)\u001b[0m\n\u001b[1;32m    217\u001b[0m                 \u001b[0miterator\u001b[0m\u001b[0;34m,\u001b[0m \u001b[0;34m(\u001b[0m\u001b[0mtf\u001b[0m\u001b[0;34m.\u001b[0m\u001b[0mdata\u001b[0m\u001b[0;34m.\u001b[0m\u001b[0mIterator\u001b[0m\u001b[0;34m,\u001b[0m \u001b[0mtf\u001b[0m\u001b[0;34m.\u001b[0m\u001b[0mdistribute\u001b[0m\u001b[0;34m.\u001b[0m\u001b[0mDistributedIterator\u001b[0m\u001b[0;34m)\u001b[0m\u001b[0;34m\u001b[0m\u001b[0;34m\u001b[0m\u001b[0m\n\u001b[1;32m    218\u001b[0m             ):\n\u001b[0;32m--> 219\u001b[0;31m                 \u001b[0mopt_outputs\u001b[0m \u001b[0;34m=\u001b[0m \u001b[0mmulti_step_on_iterator\u001b[0m\u001b[0;34m(\u001b[0m\u001b[0miterator\u001b[0m\u001b[0;34m)\u001b[0m\u001b[0;34m\u001b[0m\u001b[0;34m\u001b[0m\u001b[0m\n\u001b[0m\u001b[1;32m    220\u001b[0m                 \u001b[0;32mif\u001b[0m \u001b[0;32mnot\u001b[0m \u001b[0mopt_outputs\u001b[0m\u001b[0;34m.\u001b[0m\u001b[0mhas_value\u001b[0m\u001b[0;34m(\u001b[0m\u001b[0;34m)\u001b[0m\u001b[0;34m:\u001b[0m\u001b[0;34m\u001b[0m\u001b[0;34m\u001b[0m\u001b[0m\n\u001b[1;32m    221\u001b[0m                     \u001b[0;32mraise\u001b[0m \u001b[0mStopIteration\u001b[0m\u001b[0;34m\u001b[0m\u001b[0;34m\u001b[0m\u001b[0m\n",
            "\u001b[0;32m/usr/local/lib/python3.11/dist-packages/tensorflow/python/util/traceback_utils.py\u001b[0m in \u001b[0;36merror_handler\u001b[0;34m(*args, **kwargs)\u001b[0m\n\u001b[1;32m    148\u001b[0m     \u001b[0mfiltered_tb\u001b[0m \u001b[0;34m=\u001b[0m \u001b[0;32mNone\u001b[0m\u001b[0;34m\u001b[0m\u001b[0;34m\u001b[0m\u001b[0m\n\u001b[1;32m    149\u001b[0m     \u001b[0;32mtry\u001b[0m\u001b[0;34m:\u001b[0m\u001b[0;34m\u001b[0m\u001b[0;34m\u001b[0m\u001b[0m\n\u001b[0;32m--> 150\u001b[0;31m       \u001b[0;32mreturn\u001b[0m \u001b[0mfn\u001b[0m\u001b[0;34m(\u001b[0m\u001b[0;34m*\u001b[0m\u001b[0margs\u001b[0m\u001b[0;34m,\u001b[0m \u001b[0;34m**\u001b[0m\u001b[0mkwargs\u001b[0m\u001b[0;34m)\u001b[0m\u001b[0;34m\u001b[0m\u001b[0;34m\u001b[0m\u001b[0m\n\u001b[0m\u001b[1;32m    151\u001b[0m     \u001b[0;32mexcept\u001b[0m \u001b[0mException\u001b[0m \u001b[0;32mas\u001b[0m \u001b[0me\u001b[0m\u001b[0;34m:\u001b[0m\u001b[0;34m\u001b[0m\u001b[0;34m\u001b[0m\u001b[0m\n\u001b[1;32m    152\u001b[0m       \u001b[0mfiltered_tb\u001b[0m \u001b[0;34m=\u001b[0m \u001b[0m_process_traceback_frames\u001b[0m\u001b[0;34m(\u001b[0m\u001b[0me\u001b[0m\u001b[0;34m.\u001b[0m\u001b[0m__traceback__\u001b[0m\u001b[0;34m)\u001b[0m\u001b[0;34m\u001b[0m\u001b[0;34m\u001b[0m\u001b[0m\n",
            "\u001b[0;32m/usr/local/lib/python3.11/dist-packages/tensorflow/python/eager/polymorphic_function/polymorphic_function.py\u001b[0m in \u001b[0;36m__call__\u001b[0;34m(self, *args, **kwds)\u001b[0m\n\u001b[1;32m    831\u001b[0m \u001b[0;34m\u001b[0m\u001b[0m\n\u001b[1;32m    832\u001b[0m       \u001b[0;32mwith\u001b[0m \u001b[0mOptionalXlaContext\u001b[0m\u001b[0;34m(\u001b[0m\u001b[0mself\u001b[0m\u001b[0;34m.\u001b[0m\u001b[0m_jit_compile\u001b[0m\u001b[0;34m)\u001b[0m\u001b[0;34m:\u001b[0m\u001b[0;34m\u001b[0m\u001b[0;34m\u001b[0m\u001b[0m\n\u001b[0;32m--> 833\u001b[0;31m         \u001b[0mresult\u001b[0m \u001b[0;34m=\u001b[0m \u001b[0mself\u001b[0m\u001b[0;34m.\u001b[0m\u001b[0m_call\u001b[0m\u001b[0;34m(\u001b[0m\u001b[0;34m*\u001b[0m\u001b[0margs\u001b[0m\u001b[0;34m,\u001b[0m \u001b[0;34m**\u001b[0m\u001b[0mkwds\u001b[0m\u001b[0;34m)\u001b[0m\u001b[0;34m\u001b[0m\u001b[0;34m\u001b[0m\u001b[0m\n\u001b[0m\u001b[1;32m    834\u001b[0m \u001b[0;34m\u001b[0m\u001b[0m\n\u001b[1;32m    835\u001b[0m       \u001b[0mnew_tracing_count\u001b[0m \u001b[0;34m=\u001b[0m \u001b[0mself\u001b[0m\u001b[0;34m.\u001b[0m\u001b[0mexperimental_get_tracing_count\u001b[0m\u001b[0;34m(\u001b[0m\u001b[0;34m)\u001b[0m\u001b[0;34m\u001b[0m\u001b[0;34m\u001b[0m\u001b[0m\n",
            "\u001b[0;32m/usr/local/lib/python3.11/dist-packages/tensorflow/python/eager/polymorphic_function/polymorphic_function.py\u001b[0m in \u001b[0;36m_call\u001b[0;34m(self, *args, **kwds)\u001b[0m\n\u001b[1;32m    876\u001b[0m       \u001b[0;31m# In this case we have not created variables on the first call. So we can\u001b[0m\u001b[0;34m\u001b[0m\u001b[0;34m\u001b[0m\u001b[0m\n\u001b[1;32m    877\u001b[0m       \u001b[0;31m# run the first trace but we should fail if variables are created.\u001b[0m\u001b[0;34m\u001b[0m\u001b[0;34m\u001b[0m\u001b[0m\n\u001b[0;32m--> 878\u001b[0;31m       results = tracing_compilation.call_function(\n\u001b[0m\u001b[1;32m    879\u001b[0m           \u001b[0margs\u001b[0m\u001b[0;34m,\u001b[0m \u001b[0mkwds\u001b[0m\u001b[0;34m,\u001b[0m \u001b[0mself\u001b[0m\u001b[0;34m.\u001b[0m\u001b[0m_variable_creation_config\u001b[0m\u001b[0;34m\u001b[0m\u001b[0;34m\u001b[0m\u001b[0m\n\u001b[1;32m    880\u001b[0m       )\n",
            "\u001b[0;32m/usr/local/lib/python3.11/dist-packages/tensorflow/python/eager/polymorphic_function/tracing_compilation.py\u001b[0m in \u001b[0;36mcall_function\u001b[0;34m(args, kwargs, tracing_options)\u001b[0m\n\u001b[1;32m    137\u001b[0m   \u001b[0mbound_args\u001b[0m \u001b[0;34m=\u001b[0m \u001b[0mfunction\u001b[0m\u001b[0;34m.\u001b[0m\u001b[0mfunction_type\u001b[0m\u001b[0;34m.\u001b[0m\u001b[0mbind\u001b[0m\u001b[0;34m(\u001b[0m\u001b[0;34m*\u001b[0m\u001b[0margs\u001b[0m\u001b[0;34m,\u001b[0m \u001b[0;34m**\u001b[0m\u001b[0mkwargs\u001b[0m\u001b[0;34m)\u001b[0m\u001b[0;34m\u001b[0m\u001b[0;34m\u001b[0m\u001b[0m\n\u001b[1;32m    138\u001b[0m   \u001b[0mflat_inputs\u001b[0m \u001b[0;34m=\u001b[0m \u001b[0mfunction\u001b[0m\u001b[0;34m.\u001b[0m\u001b[0mfunction_type\u001b[0m\u001b[0;34m.\u001b[0m\u001b[0munpack_inputs\u001b[0m\u001b[0;34m(\u001b[0m\u001b[0mbound_args\u001b[0m\u001b[0;34m)\u001b[0m\u001b[0;34m\u001b[0m\u001b[0;34m\u001b[0m\u001b[0m\n\u001b[0;32m--> 139\u001b[0;31m   return function._call_flat(  # pylint: disable=protected-access\n\u001b[0m\u001b[1;32m    140\u001b[0m       \u001b[0mflat_inputs\u001b[0m\u001b[0;34m,\u001b[0m \u001b[0mcaptured_inputs\u001b[0m\u001b[0;34m=\u001b[0m\u001b[0mfunction\u001b[0m\u001b[0;34m.\u001b[0m\u001b[0mcaptured_inputs\u001b[0m\u001b[0;34m\u001b[0m\u001b[0;34m\u001b[0m\u001b[0m\n\u001b[1;32m    141\u001b[0m   )\n",
            "\u001b[0;32m/usr/local/lib/python3.11/dist-packages/tensorflow/python/eager/polymorphic_function/concrete_function.py\u001b[0m in \u001b[0;36m_call_flat\u001b[0;34m(self, tensor_inputs, captured_inputs)\u001b[0m\n\u001b[1;32m   1320\u001b[0m         and executing_eagerly):\n\u001b[1;32m   1321\u001b[0m       \u001b[0;31m# No tape is watching; skip to running the function.\u001b[0m\u001b[0;34m\u001b[0m\u001b[0;34m\u001b[0m\u001b[0m\n\u001b[0;32m-> 1322\u001b[0;31m       \u001b[0;32mreturn\u001b[0m \u001b[0mself\u001b[0m\u001b[0;34m.\u001b[0m\u001b[0m_inference_function\u001b[0m\u001b[0;34m.\u001b[0m\u001b[0mcall_preflattened\u001b[0m\u001b[0;34m(\u001b[0m\u001b[0margs\u001b[0m\u001b[0;34m)\u001b[0m\u001b[0;34m\u001b[0m\u001b[0;34m\u001b[0m\u001b[0m\n\u001b[0m\u001b[1;32m   1323\u001b[0m     forward_backward = self._select_forward_and_backward_functions(\n\u001b[1;32m   1324\u001b[0m         \u001b[0margs\u001b[0m\u001b[0;34m,\u001b[0m\u001b[0;34m\u001b[0m\u001b[0;34m\u001b[0m\u001b[0m\n",
            "\u001b[0;32m/usr/local/lib/python3.11/dist-packages/tensorflow/python/eager/polymorphic_function/atomic_function.py\u001b[0m in \u001b[0;36mcall_preflattened\u001b[0;34m(self, args)\u001b[0m\n\u001b[1;32m    214\u001b[0m   \u001b[0;32mdef\u001b[0m \u001b[0mcall_preflattened\u001b[0m\u001b[0;34m(\u001b[0m\u001b[0mself\u001b[0m\u001b[0;34m,\u001b[0m \u001b[0margs\u001b[0m\u001b[0;34m:\u001b[0m \u001b[0mSequence\u001b[0m\u001b[0;34m[\u001b[0m\u001b[0mcore\u001b[0m\u001b[0;34m.\u001b[0m\u001b[0mTensor\u001b[0m\u001b[0;34m]\u001b[0m\u001b[0;34m)\u001b[0m \u001b[0;34m->\u001b[0m \u001b[0mAny\u001b[0m\u001b[0;34m:\u001b[0m\u001b[0;34m\u001b[0m\u001b[0;34m\u001b[0m\u001b[0m\n\u001b[1;32m    215\u001b[0m     \u001b[0;34m\"\"\"Calls with flattened tensor inputs and returns the structured output.\"\"\"\u001b[0m\u001b[0;34m\u001b[0m\u001b[0;34m\u001b[0m\u001b[0m\n\u001b[0;32m--> 216\u001b[0;31m     \u001b[0mflat_outputs\u001b[0m \u001b[0;34m=\u001b[0m \u001b[0mself\u001b[0m\u001b[0;34m.\u001b[0m\u001b[0mcall_flat\u001b[0m\u001b[0;34m(\u001b[0m\u001b[0;34m*\u001b[0m\u001b[0margs\u001b[0m\u001b[0;34m)\u001b[0m\u001b[0;34m\u001b[0m\u001b[0;34m\u001b[0m\u001b[0m\n\u001b[0m\u001b[1;32m    217\u001b[0m     \u001b[0;32mreturn\u001b[0m \u001b[0mself\u001b[0m\u001b[0;34m.\u001b[0m\u001b[0mfunction_type\u001b[0m\u001b[0;34m.\u001b[0m\u001b[0mpack_output\u001b[0m\u001b[0;34m(\u001b[0m\u001b[0mflat_outputs\u001b[0m\u001b[0;34m)\u001b[0m\u001b[0;34m\u001b[0m\u001b[0;34m\u001b[0m\u001b[0m\n\u001b[1;32m    218\u001b[0m \u001b[0;34m\u001b[0m\u001b[0m\n",
            "\u001b[0;32m/usr/local/lib/python3.11/dist-packages/tensorflow/python/eager/polymorphic_function/atomic_function.py\u001b[0m in \u001b[0;36mcall_flat\u001b[0;34m(self, *args)\u001b[0m\n\u001b[1;32m    249\u001b[0m         \u001b[0;32mwith\u001b[0m \u001b[0mrecord\u001b[0m\u001b[0;34m.\u001b[0m\u001b[0mstop_recording\u001b[0m\u001b[0;34m(\u001b[0m\u001b[0;34m)\u001b[0m\u001b[0;34m:\u001b[0m\u001b[0;34m\u001b[0m\u001b[0;34m\u001b[0m\u001b[0m\n\u001b[1;32m    250\u001b[0m           \u001b[0;32mif\u001b[0m \u001b[0mself\u001b[0m\u001b[0;34m.\u001b[0m\u001b[0m_bound_context\u001b[0m\u001b[0;34m.\u001b[0m\u001b[0mexecuting_eagerly\u001b[0m\u001b[0;34m(\u001b[0m\u001b[0;34m)\u001b[0m\u001b[0;34m:\u001b[0m\u001b[0;34m\u001b[0m\u001b[0;34m\u001b[0m\u001b[0m\n\u001b[0;32m--> 251\u001b[0;31m             outputs = self._bound_context.call_function(\n\u001b[0m\u001b[1;32m    252\u001b[0m                 \u001b[0mself\u001b[0m\u001b[0;34m.\u001b[0m\u001b[0mname\u001b[0m\u001b[0;34m,\u001b[0m\u001b[0;34m\u001b[0m\u001b[0;34m\u001b[0m\u001b[0m\n\u001b[1;32m    253\u001b[0m                 \u001b[0mlist\u001b[0m\u001b[0;34m(\u001b[0m\u001b[0margs\u001b[0m\u001b[0;34m)\u001b[0m\u001b[0;34m,\u001b[0m\u001b[0;34m\u001b[0m\u001b[0;34m\u001b[0m\u001b[0m\n",
            "\u001b[0;32m/usr/local/lib/python3.11/dist-packages/tensorflow/python/eager/context.py\u001b[0m in \u001b[0;36mcall_function\u001b[0;34m(self, name, tensor_inputs, num_outputs)\u001b[0m\n\u001b[1;32m   1681\u001b[0m     \u001b[0mcancellation_context\u001b[0m \u001b[0;34m=\u001b[0m \u001b[0mcancellation\u001b[0m\u001b[0;34m.\u001b[0m\u001b[0mcontext\u001b[0m\u001b[0;34m(\u001b[0m\u001b[0;34m)\u001b[0m\u001b[0;34m\u001b[0m\u001b[0;34m\u001b[0m\u001b[0m\n\u001b[1;32m   1682\u001b[0m     \u001b[0;32mif\u001b[0m \u001b[0mcancellation_context\u001b[0m \u001b[0;32mis\u001b[0m \u001b[0;32mNone\u001b[0m\u001b[0;34m:\u001b[0m\u001b[0;34m\u001b[0m\u001b[0;34m\u001b[0m\u001b[0m\n\u001b[0;32m-> 1683\u001b[0;31m       outputs = execute.execute(\n\u001b[0m\u001b[1;32m   1684\u001b[0m           \u001b[0mname\u001b[0m\u001b[0;34m.\u001b[0m\u001b[0mdecode\u001b[0m\u001b[0;34m(\u001b[0m\u001b[0;34m\"utf-8\"\u001b[0m\u001b[0;34m)\u001b[0m\u001b[0;34m,\u001b[0m\u001b[0;34m\u001b[0m\u001b[0;34m\u001b[0m\u001b[0m\n\u001b[1;32m   1685\u001b[0m           \u001b[0mnum_outputs\u001b[0m\u001b[0;34m=\u001b[0m\u001b[0mnum_outputs\u001b[0m\u001b[0;34m,\u001b[0m\u001b[0;34m\u001b[0m\u001b[0;34m\u001b[0m\u001b[0m\n",
            "\u001b[0;32m/usr/local/lib/python3.11/dist-packages/tensorflow/python/eager/execute.py\u001b[0m in \u001b[0;36mquick_execute\u001b[0;34m(op_name, num_outputs, inputs, attrs, ctx, name)\u001b[0m\n\u001b[1;32m     51\u001b[0m   \u001b[0;32mtry\u001b[0m\u001b[0;34m:\u001b[0m\u001b[0;34m\u001b[0m\u001b[0;34m\u001b[0m\u001b[0m\n\u001b[1;32m     52\u001b[0m     \u001b[0mctx\u001b[0m\u001b[0;34m.\u001b[0m\u001b[0mensure_initialized\u001b[0m\u001b[0;34m(\u001b[0m\u001b[0;34m)\u001b[0m\u001b[0;34m\u001b[0m\u001b[0;34m\u001b[0m\u001b[0m\n\u001b[0;32m---> 53\u001b[0;31m     tensors = pywrap_tfe.TFE_Py_Execute(ctx._handle, device_name, op_name,\n\u001b[0m\u001b[1;32m     54\u001b[0m                                         inputs, attrs, num_outputs)\n\u001b[1;32m     55\u001b[0m   \u001b[0;32mexcept\u001b[0m \u001b[0mcore\u001b[0m\u001b[0;34m.\u001b[0m\u001b[0m_NotOkStatusException\u001b[0m \u001b[0;32mas\u001b[0m \u001b[0me\u001b[0m\u001b[0;34m:\u001b[0m\u001b[0;34m\u001b[0m\u001b[0;34m\u001b[0m\u001b[0m\n",
            "\u001b[0;31mKeyboardInterrupt\u001b[0m: "
          ]
        }
      ]
    },
    {
      "cell_type": "code",
      "source": [
        "def plot_training_history(history):\n",
        "    fig, (ax1, ax2, ax3) = plt.subplots(1, 3, figsize=(15, 5))\n",
        "\n",
        "    # Plot loss\n",
        "    ax1.plot(history['loss'], label='Training Loss')\n",
        "    ax1.plot(history['val_loss'], label='Validation Loss')\n",
        "    ax1.set_title('Model Loss')\n",
        "    ax1.set_xlabel('Epoch')\n",
        "    ax1.set_ylabel('Loss')\n",
        "    ax1.legend()\n",
        "\n",
        "    # Plot accuracy\n",
        "    ax2.plot(history['accuracy'], label='Training Accuracy')\n",
        "    ax2.plot(history['val_accuracy'], label='Validation Accuracy')\n",
        "    ax2.set_title('Model Accuracy')\n",
        "    ax2.set_xlabel('Epoch')\n",
        "    ax2.set_ylabel('Accuracy')\n",
        "    ax2.legend()\n",
        "\n",
        "    # Plot AUC\n",
        "    ax3.plot(history['auc'], label='Training AUC')\n",
        "    ax3.plot(history['val_auc'], label='Validation AUC')\n",
        "    ax3.set_title('Model AUC')\n",
        "    ax3.set_xlabel('Epoch')\n",
        "    ax3.set_ylabel('AUC')\n",
        "    ax3.legend()\n",
        "\n",
        "    plt.tight_layout()\n",
        "    plt.show()"
      ],
      "metadata": {
        "id": "fwoF-oV6d3gm"
      },
      "execution_count": null,
      "outputs": []
    },
    {
      "cell_type": "code",
      "source": [
        "plot_training_history(history)"
      ],
      "metadata": {
        "id": "kkFjHqExd0xF"
      },
      "execution_count": null,
      "outputs": []
    },
    {
      "cell_type": "markdown",
      "source": [
        "Time Series Analysis with a pre build Keras model"
      ],
      "metadata": {
        "id": "DfXszTAo_O8Q"
      }
    },
    {
      "cell_type": "code",
      "source": [],
      "metadata": {
        "id": "Ak7WfpnL_Oew"
      },
      "execution_count": null,
      "outputs": []
    }
  ]
}